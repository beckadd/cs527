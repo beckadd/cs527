{
 "cells": [
  {
   "cell_type": "markdown",
   "metadata": {
    "tags": [
     "AST"
    ]
   },
   "source": [
    "<style>\n",
    "    @media print{\n",
    "        body {\n",
    "            position:relative !important;\n",
    "        }\n",
    "        .celltag_new_page {\n",
    "            page-break-before: always !important;\n",
    "        }\n",
    "    }\n",
    "</style>\n",
    "# COMPSCI 527 Homework 5"
   ]
  },
  {
   "cell_type": "markdown",
   "metadata": {
    "tags": [
     "AT"
    ]
   },
   "source": [
    "### Problem 0 (3 points)"
   ]
  },
  {
   "cell_type": "markdown",
   "metadata": {
    "tags": [
     "AST"
    ]
   },
   "source": [
    "## Part 1: Linear Systems and the SVD"
   ]
  },
  {
   "cell_type": "markdown",
   "metadata": {
    "tags": [
     "AST"
    ]
   },
   "source": [
    "### Problem 1.1 (Exam Style)"
   ]
  },
  {
   "cell_type": "markdown",
   "metadata": {
    "tags": [
     "AST"
    ]
   },
   "source": [
    "### Problem 1.2 (Exam Style)"
   ]
  },
  {
   "cell_type": "markdown",
   "metadata": {
    "tags": [
     "AST"
    ]
   },
   "source": [
    "## Part 2: Linear Regression"
   ]
  },
  {
   "cell_type": "markdown",
   "metadata": {
    "tags": [
     "AST"
    ]
   },
   "source": [
    "### Problem 2.1 (Exam Style)"
   ]
  },
  {
   "cell_type": "markdown",
   "metadata": {},
   "source": [
    "The general condition under which $A$ has rank 1 would be when $x_i = x_j$ for all $i,j$ in $[0, n-1]$ where $i \\neq j$. Geometrically, this means that $A$ is a two dimensional vector since only one row is linearly independent. Therefore, $A$ describes only one unique point $(x_0,y_0)$. $A$ cannot have rank 0 because the second column of $A$ must be all ones."
   ]
  },
  {
   "cell_type": "markdown",
   "metadata": {
    "tags": [
     "AST"
    ]
   },
   "source": [
    "### Problem 2.2 (Exam Style)"
   ]
  },
  {
   "cell_type": "markdown",
   "metadata": {},
   "source": [
    "If $A$ has rank 1, then for all $i,j$ in $[0,n-1]$ where $i \\neq j$, $y_i = y_j$. This indicates that all we need are $x_0$ and $y_0$ to construct the set $U_0$."
   ]
  },
  {
   "cell_type": "markdown",
   "metadata": {},
   "source": [
    "$$\\hat{u},\\hat{v} = \\text{argmin}_{u,v} L_s(u,v)$$\n",
    "\n",
    "$$L_s(u,v) = \\frac{n}{2} (ux_0+v-y_0)^2$$"
   ]
  },
  {
   "cell_type": "markdown",
   "metadata": {},
   "source": [
    "Since $L_s(u,v)$ must be positive due to squaring, it reaches 0 (the minimum) when $ux_0+v-y_0 = 0$."
   ]
  },
  {
   "cell_type": "markdown",
   "metadata": {},
   "source": [
    "We can also see this when we set the gradient of $L_s(u,v)$ to 0:"
   ]
  },
  {
   "cell_type": "markdown",
   "metadata": {},
   "source": [
    "$$\\nabla L_s(u,v) = n(-y_0+ux_0+v)\\begin{bmatrix}x_0 \\\\ 1\\end{bmatrix} = 0$$"
   ]
  },
  {
   "cell_type": "markdown",
   "metadata": {},
   "source": [
    "Where we have $ux_0+v-y_0 = 0$. "
   ]
  },
  {
   "cell_type": "markdown",
   "metadata": {},
   "source": [
    "The set $U_0$ then would be $\\{(u,v)$ where $v=y_0-ux_0\\}$, describing points on the line $v=y_0-x_0u$."
   ]
  },
  {
   "cell_type": "markdown",
   "metadata": {
    "tags": [
     "AST"
    ]
   },
   "source": [
    "### Problem 2.3 (Exam Style)"
   ]
  },
  {
   "cell_type": "markdown",
   "metadata": {},
   "source": [
    "$$\\hat{u}_1, \\hat{v}_1 = \\text{argmin}_{u,v} u^2 + v^2$$"
   ]
  },
  {
   "cell_type": "markdown",
   "metadata": {},
   "source": [
    "In the case where $A$ has rank 1,\n",
    "$$u^2+v^2 = u^2 + (y_0-ux_0)^2$$"
   ]
  },
  {
   "cell_type": "markdown",
   "metadata": {},
   "source": [
    "We know $u^2+v^2$ is a paraboloid that has one extrema the minimum, setting the gradient of this equation to 0 on $u$ gives us $\\hat{u}_1$"
   ]
  },
  {
   "cell_type": "markdown",
   "metadata": {},
   "source": [
    "$$(2x_0^2+2)u - 2x_0y_0 = 0$$"
   ]
  },
  {
   "cell_type": "markdown",
   "metadata": {},
   "source": [
    "$$\\hat{u}_1 = \\frac{x_0y_0}{x_0^2+1}$$"
   ]
  },
  {
   "cell_type": "markdown",
   "metadata": {},
   "source": [
    "$$\\hat{v}_1 = y_0-\\frac{x_0^2y_0}{x_0^2+1} = \\frac{y_0}{x_0^2+1}$$"
   ]
  },
  {
   "cell_type": "markdown",
   "metadata": {
    "tags": [
     "AST"
    ]
   },
   "source": [
    "### Problem 2.4"
   ]
  },
  {
   "cell_type": "code",
   "execution_count": 71,
   "metadata": {
    "scrolled": true,
    "tags": [
     "AST"
    ]
   },
   "outputs": [],
   "source": [
    "import urllib.request\n",
    "import pickle\n",
    "from os import path as osp\n",
    "import numpy as np\n",
    "from matplotlib import pyplot as plt\n",
    "%matplotlib inline\n",
    "\n",
    "def regress(x):\n",
    "    A = np.hstack((x[:, 0].reshape(-1,1), np.ones((x.shape[0],1))))\n",
    "    y = x[:,1].reshape(-1,1)\n",
    "    return np.matmul(np.linalg.pinv(A),y)\n",
    "    \n",
    "\n",
    "pickle_file_name = 'sample_sets.pkl'\n",
    "if not osp.exists(pickle_file_name):\n",
    "    fmt = 'https://www2.cs.duke.edu/courses/spring21/compsci527/homework/5/{}'\n",
    "    url = fmt.format(pickle_file_name)\n",
    "    urllib.request.urlretrieve(url, pickle_file_name)\n",
    "with open(pickle_file_name, 'rb') as file:\n",
    "    sample_sets = pickle.load(file)\n"
   ]
  },
  {
   "cell_type": "code",
   "execution_count": 106,
   "metadata": {},
   "outputs": [
    {
     "data": {
      "image/png": "[encoded data removed]",
      "text/plain": [
       "<Figure size 432x288 with 4 Axes>"
      ]
     },
     "metadata": {
      "needs_background": "light"
     },
     "output_type": "display_data"
    }
   ],
   "source": [
    "s_list = np.asarray(sample_sets)\n",
    "#fig, axes = plt.subplot([2, 2])\n",
    "for i, s in enumerate(s_list):\n",
    "    xmax = np.max(s[:,0])\n",
    "    xmin = np.min(s[:,0])\n",
    "    ymax = np.max(s[:,1])\n",
    "    ymin = np.min(s[:,1])\n",
    "    plt.subplot(2, 2, i+ 1)\n",
    "#     ax = axes.flatten()[i]\n",
    "    plt.scatter(s[:, 0], s[:, 1])\n",
    "    #x = np.linspace(0, 12, 20)\n",
    "#     print(regress(s)[0], regress(s)[1])\n",
    "    plt.ylim = (ymin, ymax)\n",
    "    plt.xlim = (xmin, xmax)\n",
    "    m = regress(s)[0]\n",
    "    b = regress(s)[1]\n",
    "    y = m*x + b\n",
    "    plt.plot(x, y)\n",
    "    plt.gca().set_aspect('equal')\n",
    "#     ax.set_aspect(\"equal\")\n",
    "#     ax.set_xlim(0, 10)\n",
    "#     ax.set_ylim(0, 10)$\n",
    "\n",
    "plt.tight_layout()\n",
    "plt.show()"
   ]
  },
  {
   "cell_type": "code",
   "execution_count": null,
   "metadata": {},
   "outputs": [],
   "source": [
    "plt.figure(figsize=(18, 5))"
   ]
  },
  {
   "cell_type": "markdown",
   "metadata": {
    "tags": [
     "AST"
    ]
   },
   "source": [
    "## Part 3: Principal Component Analysis"
   ]
  },
  {
   "cell_type": "markdown",
   "metadata": {
    "tags": [
     "AST"
    ]
   },
   "source": [
    "### Problem 3.1"
   ]
  }
 ],
 "metadata": {
  "kernelspec": {
   "display_name": "Python 3",
   "language": "python",
   "name": "python3"
  },
  "language_info": {
   "codemirror_mode": {
    "name": "ipython",
    "version": 3
   },
   "file_extension": ".py",
   "mimetype": "text/x-python",
   "name": "python",
   "nbconvert_exporter": "python",
   "pygments_lexer": "ipython3",
   "version": "3.8.5"
  },
  "pycharm": {
   "stem_cell": {
    "cell_type": "raw",
    "metadata": {
     "collapsed": false
    },
    "source": []
   }
  }
 },
 "nbformat": 4,
 "nbformat_minor": 2
}
