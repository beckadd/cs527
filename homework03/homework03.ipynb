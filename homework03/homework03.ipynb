{
 "cells": [
  {
   "cell_type": "markdown",
   "metadata": {
    "tags": [
     "AST"
    ]
   },
   "source": [
    "<style>\n",
    "    @media print{\n",
    "        body {\n",
    "            position:relative !important;\n",
    "        }\n",
    "        .celltag_new_page {\n",
    "            page-break-before: always !important;\n",
    "        }\n",
    "    }\n",
    "</style>\n",
    "# COMPSCI 527 Homework 3"
   ]
  },
  {
   "cell_type": "markdown",
   "metadata": {
    "tags": [
     "AT"
    ]
   },
   "source": [
    "### Problem 0 (3 points)"
   ]
  },
  {
   "cell_type": "markdown",
   "metadata": {
    "tags": [
     "AST"
    ]
   },
   "source": [
    "## Part 1: Line Search "
   ]
  },
  {
   "cell_type": "markdown",
   "metadata": {
    "tags": [
     "AST"
    ]
   },
   "source": [
    "### Problem 1.1 (Exam Style)"
   ]
  },
  {
   "cell_type": "markdown",
   "metadata": {},
   "source": [
    "$$\\nabla f(x,y) = \\begin{bmatrix} ax \\\\ by \\end{bmatrix} $$ "
   ]
  },
  {
   "cell_type": "markdown",
   "metadata": {
    "tags": [
     "AST"
    ]
   },
   "source": [
    "### Problem 1.2 (Exam Style)"
   ]
  },
  {
   "cell_type": "markdown",
   "metadata": {},
   "source": [
    "$$h(\\alpha) = f(x_0-\\alpha ax, y_0 - \\alpha b y) = \\frac{1}{2} (a(x_0-\\alpha ax_0)^2 + b(y_0-\\alpha by_0)^2)$$"
   ]
  },
  {
   "cell_type": "markdown",
   "metadata": {
    "tags": [
     "AST"
    ]
   },
   "source": [
    "### Problem 1.3 (Exam Style)"
   ]
  },
  {
   "cell_type": "markdown",
   "metadata": {},
   "source": [
    "$$h(\\alpha) = j\\alpha^2 + k\\alpha+l$$\n",
    "\n",
    "$$\\text{ArgMin of paraboloid at} \\frac{-k}{2j}$$\n",
    "\n",
    "$$a = a^3x_0^2 + b^3y_0^2$$\n",
    "\n",
    "$$b = -2a^2x_0^2 + -2b^2y_0^2$$\n",
    "\n",
    "$$\\alpha_1 = \\frac{a^3x_0^2 + b^3y_0^2}{a^2x_0^2 + 2b^2y_0^2}$$"
   ]
  },
  {
   "cell_type": "markdown",
   "metadata": {
    "tags": [
     "AST"
    ]
   },
   "source": [
    "### Problem 1.4 (Exam Style)"
   ]
  },
  {
   "cell_type": "markdown",
   "metadata": {},
   "source": [
    "$$\\begin{bmatrix} x_1 \\\\ y_1 \\end{bmatrix} = \\begin{bmatrix} x_0 \\\\ y_0 \\end{bmatrix} - \\frac{a^2+b^2}{a^3+b^3}(x_0^2+y_0^2)\\begin{bmatrix} ax_0 \\\\ by_0 \\end{bmatrix}$$"
   ]
  },
  {
   "cell_type": "markdown",
   "metadata": {
    "tags": [
     "AST"
    ]
   },
   "source": [
    "### Problem 1.5 (Exam Style)"
   ]
  },
  {
   "cell_type": "markdown",
   "metadata": {},
   "source": []
  },
  {
   "cell_type": "markdown",
   "metadata": {
    "tags": [
     "AST"
    ]
   },
   "source": [
    "## Part 2: Automatic Differentiation"
   ]
  },
  {
   "cell_type": "code",
   "execution_count": 1,
   "metadata": {
    "tags": [
     "AST"
    ]
   },
   "outputs": [],
   "source": [
    "import autograd.numpy as np\n",
    "from autograd import grad"
   ]
  },
  {
   "cell_type": "code",
   "execution_count": 4,
   "metadata": {
    "tags": [
     "AST"
    ]
   },
   "outputs": [],
   "source": [
    "from matplotlib import pyplot as plt\n",
    "%matplotlib inline"
   ]
  },
  {
   "cell_type": "code",
   "execution_count": 9,
   "metadata": {
    "tags": [
     "AST"
    ]
   },
   "outputs": [],
   "source": [
    "def banana(z):\n",
    "    return np.array(100 * (z[1] - z[0] ** 2) ** 2 + (1 - z[0]) ** 2)"
   ]
  },
  {
   "cell_type": "markdown",
   "metadata": {
    "tags": [
     "AST"
    ]
   },
   "source": [
    "### Problem 2.1"
   ]
  },
  {
   "cell_type": "markdown",
   "metadata": {
    "tags": [
     "AST"
    ]
   },
   "source": [
    "### Problem 2.2 (Exam style except for the function calls)"
   ]
  },
  {
   "cell_type": "markdown",
   "metadata": {
    "tags": [
     "AST"
    ]
   },
   "source": [
    "## Part 3: Gradient Descent"
   ]
  },
  {
   "cell_type": "code",
   "execution_count": 13,
   "metadata": {
    "tags": [
     "AST"
    ]
   },
   "outputs": [],
   "source": [
    "from scipy import optimize\n",
    "from numpy import linalg as npl\n",
    "\n",
    "\n",
    "def line_search(f, g, z0, f0, g0, state=None):\n",
    "    outcome = optimize.line_search(f, g, z0, -g0, g0, f0)\n",
    "    alpha, f1 = outcome[0], outcome[3]\n",
    "    evaluations = outcome[1]\n",
    "    if alpha is None:\n",
    "        alpha, f1 = 0., f0\n",
    "    z1 = z0 - g0 * alpha\n",
    "    return z1, f1, evaluations, state"
   ]
  },
  {
   "cell_type": "code",
   "execution_count": 14,
   "metadata": {
    "tags": [
     "AST"
    ]
   },
   "outputs": [],
   "source": [
    "def gd(f, g, z0, step_function=line_search, state=None, max_evaluations=1000,\n",
    "       min_step=1.e-8, min_gradient=1.e-6):\n",
    "    evaluations, h = 0, []\n",
    "    while True:\n",
    "        f0, g0 = f(z0), g(z0)\n",
    "        if not len(h):\n",
    "            h.append((z0, f0))\n",
    "        evaluations += 1\n",
    "        if npl.norm(g0) < min_gradient:\n",
    "            z1, f1 = z0, f0\n",
    "            break\n",
    "        z1, f1, n_eval, state = step_function(f, g, z0, f0, g0, state=state)\n",
    "        evaluations += n_eval\n",
    "        h.append((z1, f1))\n",
    "        if npl.norm(z1 - z0) < min_step or evaluations > max_evaluations:\n",
    "            break\n",
    "        z0 = z1\n",
    "    return z1, f1, evaluations, h"
   ]
  },
  {
   "cell_type": "code",
   "execution_count": 15,
   "metadata": {
    "tags": [
     "AST"
    ]
   },
   "outputs": [],
   "source": [
    "def momentum(f, g, z0, f0, g0, state=None):\n",
    "    if state is None:\n",
    "        state = {'alpha': 0.001, 'v0': 0., 'mu': 0.9}\n",
    "    v1 = state['mu'] * state['v0'] - g0 * state['alpha']\n",
    "    z1 = z0 + v1\n",
    "    state['v0'] = v1\n",
    "    return z1, f(z1), 1, state"
   ]
  },
  {
   "cell_type": "markdown",
   "metadata": {
    "tags": [
     "AST"
    ]
   },
   "source": [
    "### Problem 3.1"
   ]
  },
  {
   "cell_type": "code",
   "execution_count": 16,
   "metadata": {
    "tags": [
     "AST"
    ]
   },
   "outputs": [],
   "source": [
    "z_0 = np.array((-1.2, 1.))\n",
    "z_star = np.array([1., 1.])"
   ]
  },
  {
   "cell_type": "code",
   "execution_count": 17,
   "metadata": {
    "tags": [
     "AST"
    ]
   },
   "outputs": [],
   "source": [
    "# steps = ((line_search, None), (fixed, {'alpha': 0.001}), (fixed, {'alpha': 0.005}),\n",
    "#          (momentum, {'alpha': 0.001, 'v0': 0., 'mu': 0.2}),\n",
    "#          (momentum, {'alpha': 0.001, 'v0': 0., 'mu': 0.5}),\n",
    "#          (momentum, {'alpha': 0.001, 'v0': 0., 'mu': ?}))"
   ]
  },
  {
   "cell_type": "code",
   "execution_count": 18,
   "metadata": {
    "tags": [
     "AST"
    ]
   },
   "outputs": [],
   "source": [
    "from numpy import array2string\n",
    "\n",
    "\n",
    "def plot_contours(f, z_ast, rect):\n",
    "    assert len(z_ast) == 2, 'can only plot in two dimensions'\n",
    "    n = 101\n",
    "    xs = np.linspace(rect[0], rect[1], n)\n",
    "    ys = np.linspace(rect[2], rect[3], n)\n",
    "    fs = np.array([[f(np.array([x, y])) for x in xs] for y in ys])\n",
    "    plt.contour(xs, ys, fs, 20, colors='grey', linewidths=1)\n",
    "    plt.plot(z_ast[0], z_ast[1], 'ro')\n",
    "    plt.axis('scaled')\n",
    "\n",
    "\n",
    "def fa(a, p=2):\n",
    "    return array2string(np.array(a), precision=p, separator=', ')"
   ]
  },
  {
   "cell_type": "code",
   "execution_count": 19,
   "metadata": {},
   "outputs": [],
   "source": [
    "def plot_history_path(h, f, z_ast, n_evals, state, rect=(-2., 2., -2., 2.)):\n",
    "    assert len(z_ast) == 2, 'can only plot in two dimensions'\n",
    "    plot_contours(f, z_ast, rect)\n",
    "    plt.plot([p[0][0] for p in h], [p[0][1] for p in h])\n",
    "    plt.plot(h[0][0][0], h[0][0][1], 'bo')\n",
    "    z_last, f_last = h[-1][0], h[-1][1]\n",
    "    ft = 'f({}) = {:.2g}; {} steps; {} evals'\n",
    "    title = ft.format(fa(z_last), f_last, len(h), n_evals)\n",
    "    if state is not None:\n",
    "        s = state.copy()\n",
    "        try:\n",
    "            del s['v0']\n",
    "        except KeyError:\n",
    "            pass\n",
    "        st = '; '.join(['{}={:.3g}'.format(name, value) for name, value in s.items()])\n",
    "        title = '\\n'.join((title, st))\n",
    "    plt.title(title)"
   ]
  },
  {
   "cell_type": "markdown",
   "metadata": {
    "tags": [
     "AST"
    ]
   },
   "source": [
    "### Problem 3.2 (Exam Style)"
   ]
  }
 ],
 "metadata": {
  "kernelspec": {
   "display_name": "Python 3",
   "language": "python",
   "name": "python3"
  },
  "language_info": {
   "codemirror_mode": {
    "name": "ipython",
    "version": 3
   },
   "file_extension": ".py",
   "mimetype": "text/x-python",
   "name": "python",
   "nbconvert_exporter": "python",
   "pygments_lexer": "ipython3",
   "version": "3.8.5"
  },
  "pycharm": {
   "stem_cell": {
    "cell_type": "raw",
    "metadata": {
     "collapsed": false
    },
    "source": []
   }
  }
 },
 "nbformat": 4,
 "nbformat_minor": 2
}
