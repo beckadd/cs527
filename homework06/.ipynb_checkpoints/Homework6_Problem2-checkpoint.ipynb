{
 "cells": [
  {
   "cell_type": "markdown",
   "metadata": {
    "id": "HzEbKmhJQON6"
   },
   "source": [
    "##Problem 2.1"
   ]
  },
  {
   "cell_type": "markdown",
   "metadata": {
    "id": "SrAXHoo9QXcv"
   },
   "source": [
    "The formula for $A$ is given as:\n",
    "\n",
    "$$A = \\sum_{\\mathbf{x}}\\nabla g(\\mathbf{x})\\, [\\nabla g(\\mathbf{x})]^T w(\\mathbf{x}-\\mathbf{x}_f)$$\n",
    "\n",
    "where\n",
    "$$\\nabla g(\\mathbf{x}) = \\begin{bmatrix}\\begin{bmatrix}\n",
    "6 & 2 & 4\\\\\n",
    "8 & 2 & 2\\\\\n",
    "2 & 4 & 4\n",
    "\\end{bmatrix}\n",
    "\\\\\\begin{bmatrix}\n",
    "9 & 3 & 6\\\\\n",
    "12 & 3 & 3\\\\\n",
    "3 & 6 & 6\n",
    "\\end{bmatrix}\\end{bmatrix}$$\n",
    "<br>\n"
   ]
  },
  {
   "cell_type": "code",
   "execution_count": 20,
   "metadata": {
    "colab": {
     "base_uri": "https://localhost:8080/"
    },
    "id": "iq0yg7wr41f9",
    "outputId": "6525fd3e-c35d-4e64-8258-ab89e4fdf2e5"
   },
   "outputs": [
    {
     "data": {
      "text/plain": [
       "array([[164, 246],\n",
       "       [246, 369]])"
      ]
     },
     "execution_count": 20,
     "metadata": {
      "tags": []
     },
     "output_type": "execute_result"
    }
   ],
   "source": [
    "import numpy as np\n",
    "\n",
    "g1 = np.array([[6,2,4],[8,2,2],[2,4,4]])\n",
    "g2 = np.array([[9,3,6],[12,3,3],[3,6,6]])\n",
    "A = np.array([[0,0],[0,0]])\n",
    "\n",
    "for i in range(g1.shape[0]):\n",
    "  for j in range(g1.shape[1]):\n",
    "    x = np.array([g1[i,j],g2[i,j]])\n",
    "    x = x.reshape((2,1))\n",
    "    A = A + np.matmul(x,x.T)\n",
    "A"
   ]
  },
  {
   "cell_type": "markdown",
   "metadata": {
    "id": "IcGx7tN347c4"
   },
   "source": [
    "\n",
    "\n",
    "So \n",
    "$$A = \\sum_{\\mathbf{x}}\\nabla g(\\mathbf{x})\\, [\\nabla g(\\mathbf{x})]^T w(\\mathbf{x}-\\mathbf{x}_f) = \\begin{bmatrix}\n",
    "164&246\\\\246&369\\end{bmatrix}$$\n",
    "<br>\n",
    "\n",
    "Similarly,\n",
    "$$\\mathbf{b} = \\sum_{\\mathbf{x}}\\nabla g(\\mathbf{x})\\,  [f(\\mathbf{x}) - g(\\mathbf{x}) ]\\, w(\\mathbf{x}-\\mathbf{x}_f)$$\n",
    "\n",
    "and\n",
    "$$[f(\\mathbf{x}) - g(\\mathbf{x}) ] = \\left[\\begin{array}{ccc} 0 & 5 & 0\\\\ 0 & 0 & 10\\\\ 15 & 0 & 0 \\end{array}\\right]$$\n",
    "\n"
   ]
  },
  {
   "cell_type": "code",
   "execution_count": 1,
   "metadata": {
    "colab": {
     "base_uri": "https://localhost:8080/"
    },
    "id": "p93kCihm5K4k",
    "outputId": "a1d872dc-501a-4d99-e3a2-8bb99e6b36c8"
   },
   "outputs": [
    {
     "data": {
      "text/plain": [
       "array([60, 90])"
      ]
     },
     "execution_count": 1,
     "metadata": {},
     "output_type": "execute_result"
    }
   ],
   "source": [
    "import numpy as np\n",
    "\n",
    "g1 = np.array([[6,2,4],[8,2,2],[2,4,4]])\n",
    "g2 = np.array([[9,3,6],[12,3,3],[3,6,6]])\n",
    "b = np.array([0,0])\n",
    "fg = np.array([[0,5,0],[0,0,10],[15,0,0]])\n",
    "\n",
    "for i in range(g1.shape[0]):\n",
    "  for j in range(g1.shape[1]):\n",
    "    x = np.array([g1[i,j],g2[i,j]])\n",
    "    b = b + x*fg[i,j]\n",
    "b"
   ]
  },
  {
   "cell_type": "markdown",
   "metadata": {
    "id": "mJaM-4rC5LsW"
   },
   "source": [
    "Hence\n",
    "$$b = \\begin{bmatrix}60\\\\90\\end{bmatrix}$$"
   ]
  },
  {
   "cell_type": "markdown",
   "metadata": {
    "id": "Imry22ZleCSn"
   },
   "source": [
    "##Problem 2.2"
   ]
  },
  {
   "cell_type": "markdown",
   "metadata": {
    "id": "vlb4WdgKeFFa"
   },
   "source": [
    "The given feature $x_f$ does not suffer from the aperture problem because using the Lucas-Kanade tracker eliminates it owing to its assumption of constant motion in the immediate neighborhood. \n",
    "\n",
    "\n",
    "\n"
   ]
  },
  {
   "cell_type": "markdown",
   "metadata": {
    "id": "4RQHtmXaiNAq"
   },
   "source": [
    "##Problem 2.3"
   ]
  },
  {
   "cell_type": "code",
   "execution_count": 4,
   "metadata": {
    "id": "6b6KelmYQWwj"
   },
   "outputs": [
    {
     "data": {
      "text/plain": [
       "array([[0.11257036],\n",
       "       [0.16885553]])"
      ]
     },
     "execution_count": 4,
     "metadata": {},
     "output_type": "execute_result"
    }
   ],
   "source": [
    "import numpy as np\n",
    "A = np.array([[164,246],[246,369]])\n",
    "b = np.array([60,90]).reshape((2,1))\n",
    "U,S,V = np.linalg.svd(A,full_matrices=False) #Economy SVD\n",
    "S = np.diag(S)\n",
    "A_pseudo = np.dot(np.dot(V.T,np.linalg.inv(S)),U.T)\n",
    "x = np.dot(A_pseudo,b)\n",
    "x\n",
    "np.linalg.pinv(A) @ b"
   ]
  },
  {
   "cell_type": "markdown",
   "metadata": {
    "colab": {
     "base_uri": "https://localhost:8080/"
    },
    "id": "BRAy8j_iiQzS",
    "outputId": "c2956321-416c-4849-dd49-4d49b93101ce"
   },
   "source": [
    "x"
   ]
  },
  {
   "cell_type": "markdown",
   "metadata": {
    "id": "zqz7ebqQ9J-7"
   },
   "source": [
    "The approximate minimum-norm solution $x_0$ to the linear system is:\n",
    "$$\\begin{bmatrix}-0.75\\\\0.5\\end{bmatrix}$$"
   ]
  },
  {
   "cell_type": "markdown",
   "metadata": {
    "id": "c47z0oChiT8T"
   },
   "source": [
    "##Problem 2.4"
   ]
  },
  {
   "cell_type": "markdown",
   "metadata": {
    "id": "nz66_GkbibOj"
   },
   "source": [
    "The given equation is a linear equation and can be solved by taking the product of the pseudo-inverse of $A$ and $b$.\n",
    "$$Ax = b$$\n",
    "\n",
    "Let the Singular Value Decomposition of $A$ be given as the following:\n",
    "$$ A = USV^T$$\n",
    "Then,\n",
    "$$A_{pseudo} = (USV^T)^{-1} = VS^{-1}U^T$$\n",
    "<br>\n",
    "Hence, the general solution for $x$ can be determined by:\n",
    "$$x = A_{pseudo}*b = VS^{-1}U^Tb$$\n"
   ]
  }
 ],
 "metadata": {
  "colab": {
   "name": "Homework6_Problem2.ipynb",
   "provenance": []
  },
  "kernelspec": {
   "display_name": "Python 3",
   "language": "python",
   "name": "python3"
  },
  "language_info": {
   "codemirror_mode": {
    "name": "ipython",
    "version": 3
   },
   "file_extension": ".py",
   "mimetype": "text/x-python",
   "name": "python",
   "nbconvert_exporter": "python",
   "pygments_lexer": "ipython3",
   "version": "3.8.5"
  }
 },
 "nbformat": 4,
 "nbformat_minor": 1
}
