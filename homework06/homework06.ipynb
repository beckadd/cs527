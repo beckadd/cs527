{
 "cells": [
  {
   "cell_type": "markdown",
   "metadata": {
    "tags": [
     "AST"
    ]
   },
   "source": [
    "<style>\n",
    "    @media print{\n",
    "        body {\n",
    "            position:relative !important;\n",
    "        }\n",
    "        .celltag_new_page {\n",
    "            page-break-before: always !important;\n",
    "        }\n",
    "    }\n",
    "</style>\n",
    "# COMPSCI 527 Homework 6"
   ]
  },
  {
   "cell_type": "code",
   "execution_count": null,
   "metadata": {},
   "outputs": [],
   "source": []
  },
  {
   "cell_type": "markdown",
   "metadata": {
    "tags": [
     "AT"
    ]
   },
   "source": [
    "### Problem 0 (3 points)"
   ]
  },
  {
   "cell_type": "markdown",
   "metadata": {
    "tags": [
     "AST"
    ]
   },
   "source": [
    "## Part 1: Image Motion Basics "
   ]
  },
  {
   "cell_type": "markdown",
   "metadata": {
    "tags": [
     "AST"
    ]
   },
   "source": [
    "### Problem 1.1 (Exam Style)"
   ]
  },
  {
   "cell_type": "markdown",
   "metadata": {},
   "source": [
    "$$\\frac{1}{\\sqrt{3^2+4^2}} \\begin{bmatrix} 3,4\\end{bmatrix} \\begin{bmatrix} 1\\\\3 \\end{bmatrix} = 3$$"
   ]
  },
  {
   "cell_type": "markdown",
   "metadata": {
    "tags": [
     "AST"
    ]
   },
   "source": [
    "### Problem 1.2 (Exam Style)"
   ]
  },
  {
   "cell_type": "markdown",
   "metadata": {},
   "source": [
    "$$(1,1)^T \\textbf{v} -5=0$$\n",
    "$$(-1,1)^T \\textbf{v}+1 = 0$$\n",
    "$$(1,1)^T \\textbf{v} =5$$\n",
    "$$(-1,1)^T \\textbf{v} = -1$$\n",
    "\n",
    "Let $\\textbf{v} = x,y$, \n",
    "$$x+y=5$$\n",
    "$$-x+y=-1$$\n",
    "$$\\textbf{v} = (3,2)$$"
   ]
  },
  {
   "cell_type": "markdown",
   "metadata": {
    "tags": [
     "AST"
    ]
   },
   "source": [
    "## Part 2: Window Tracking "
   ]
  },
  {
   "cell_type": "markdown",
   "metadata": {
    "tags": [
     "AST"
    ]
   },
   "source": [
    "### Problem 2.1 (Exam Style)"
   ]
  },
  {
   "cell_type": "code",
   "execution_count": 8,
   "metadata": {},
   "outputs": [
    {
     "name": "stdout",
     "output_type": "stream",
     "text": [
      "A is  [[164 246]\n",
      " [246 369]]\n",
      "b is [[60 90]]\n"
     ]
    }
   ],
   "source": [
    "import numpy as np\n",
    "\n",
    "def my(x):\n",
    "        sum = np.array([[0,0],[0,0]])\n",
    "        for rip in x:\n",
    "                lol = np.matmul(rip,np.transpose(rip))\n",
    "                sum = sum + lol\n",
    "        return sum\n",
    "\n",
    "full = np.array([[[6], [9]],\n",
    "       [[2], [3]],\n",
    "       [[4], [6]],\n",
    "       [[8], [12]],\n",
    "       [[2], [3]],\n",
    "       [[2], [3]],\n",
    "       [[2], [3]],\n",
    "       [[4], [6]],\n",
    "       [[4], [6]]])\n",
    "\n",
    "full1 = np.transpose(np.matrix([[6,2,4,8,2,2,2,4,4],[9,3,6,12,3,3,3,6,6]]))\n",
    "\n",
    "A = my(full)\n",
    "D = np.transpose(np.matrix([0,5,0,0,0,10,15,0,0]))\n",
    "b = sum(np.multiply(full1,D))\n",
    "print(\"A is \", A)\n",
    "print(\"b is\", b)"
   ]
  },
  {
   "cell_type": "markdown",
   "metadata": {
    "tags": [
     "AST"
    ]
   },
   "source": [
    "### Problem 2.2 (Exam Style)"
   ]
  },
  {
   "cell_type": "markdown",
   "metadata": {},
   "source": [
    "yes"
   ]
  },
  {
   "cell_type": "markdown",
   "metadata": {
    "tags": [
     "AST"
    ]
   },
   "source": [
    "### Problem 2.3"
   ]
  },
  {
   "cell_type": "markdown",
   "metadata": {},
   "source": [
    "Find pseudoinverse of A"
   ]
  },
  {
   "cell_type": "code",
   "execution_count": 10,
   "metadata": {},
   "outputs": [
    {
     "name": "stdout",
     "output_type": "stream",
     "text": [
      "x is  [[0.11257036]\n",
      " [0.16885553]]\n"
     ]
    }
   ],
   "source": [
    "AA = np.linalg.pinv(A)\n",
    "x = np.matmul(AA,np.transpose(b))\n",
    "print(\"x is \", x)"
   ]
  },
  {
   "cell_type": "markdown",
   "metadata": {},
   "source": []
  },
  {
   "cell_type": "markdown",
   "metadata": {
    "tags": [
     "AST"
    ]
   },
   "source": [
    "### Problem 2.4"
   ]
  },
  {
   "cell_type": "markdown",
   "metadata": {
    "tags": [
     "AST"
    ]
   },
   "source": [
    "## Part 3: The Lucas-Kanade Tracker"
   ]
  },
  {
   "cell_type": "markdown",
   "metadata": {
    "tags": [
     "AST"
    ]
   },
   "source": [
    "### Problem 3.1"
   ]
  },
  {
   "cell_type": "markdown",
   "metadata": {
    "tags": [
     "AST"
    ]
   },
   "source": [
    "### Problem 3.2"
   ]
  },
  {
   "cell_type": "code",
   "execution_count": 5,
   "metadata": {
    "tags": [
     "AST"
    ]
   },
   "outputs": [],
   "source": [
    "import urllib.request\n",
    "import pickle\n",
    "from os import path as osp\n",
    "\n",
    "pickle_file_name = 'inputs.pkl'\n",
    "if not osp.exists(pickle_file_name):\n",
    "    fmt = 'https://www2.cs.duke.edu/courses/spring21/compsci527/homework/6/{}'\n",
    "    url = fmt.format(pickle_file_name)\n",
    "    urllib.request.urlretrieve(url, pickle_file_name)\n",
    "with open(pickle_file_name, 'rb') as file:\n",
    "    inputs = pickle.load(file)\n",
    "f, g = inputs['f'], inputs['g']"
   ]
  }
 ],
 "metadata": {
  "celltoolbar": "Tags",
  "kernelspec": {
   "display_name": "Python 3",
   "language": "python",
   "name": "python3"
  },
  "language_info": {
   "codemirror_mode": {
    "name": "ipython",
    "version": 3
   },
   "file_extension": ".py",
   "mimetype": "text/x-python",
   "name": "python",
   "nbconvert_exporter": "python",
   "pygments_lexer": "ipython3",
   "version": "3.8.5"
  },
  "pycharm": {
   "stem_cell": {
    "cell_type": "raw",
    "metadata": {
     "collapsed": false
    },
    "source": []
   }
  }
 },
 "nbformat": 4,
 "nbformat_minor": 2
}
