{
  "nbformat": 4,
  "nbformat_minor": 0,
  "metadata": {
    "kernelspec": {
      "display_name": "Python 3",
      "language": "python",
      "name": "python3"
    },
    "language_info": {
      "codemirror_mode": {
        "name": "ipython",
        "version": 3
      },
      "file_extension": ".py",
      "mimetype": "text/x-python",
      "name": "python",
      "nbconvert_exporter": "python",
      "pygments_lexer": "ipython3",
      "version": "3.9.2"
    },
    "pycharm": {
      "stem_cell": {
        "cell_type": "raw",
        "metadata": {
          "collapsed": false
        },
        "source": []
      }
    },
    "colab": {
      "name": "homework07_problems1_and_2.ipynb",
      "provenance": []
    }
  },
  "cells": [
    {
      "cell_type": "markdown",
      "metadata": {
        "tags": [
          "AST"
        ],
        "id": "CR84JolpsSeu"
      },
      "source": [
        "<style>\n",
        "    @media print{\n",
        "        body {\n",
        "            position:relative !important;\n",
        "        }\n",
        "        .celltag_new_page {\n",
        "            page-break-before: always !important;\n",
        "        }\n",
        "    }\n",
        "</style>\n",
        "# COMPSCI 527 Homework 7"
      ]
    },
    {
      "cell_type": "markdown",
      "metadata": {
        "tags": [
          "AT"
        ],
        "id": "16wAxJOGsSe2"
      },
      "source": [
        "### Problem 0 (3 points)"
      ]
    },
    {
      "cell_type": "markdown",
      "metadata": {
        "tags": [
          "AST"
        ],
        "id": "tnVAmimisSe3"
      },
      "source": [
        "## Part 1: Vector Geometry"
      ]
    },
    {
      "cell_type": "markdown",
      "metadata": {
        "tags": [
          "AST"
        ],
        "id": "WFgE2OeOsSe3"
      },
      "source": [
        "### Problem 1.1 (Exam Style)"
      ]
    },
    {
      "cell_type": "markdown",
      "metadata": {
        "id": "TNRqPUaGsXKz"
      },
      "source": [
        "A non-square matrix can have either a left inverse or a right inverse depending on whether it exhibits a full column rank or a full row rank respectively. For a matrix with the shape of $3X2$, the number of columns is lesser than the number of rows and it is hence a full column rank type matrix.\n",
        "\n",
        "**Therefore, only a left inverse exists for such matrices.**"
      ]
    },
    {
      "cell_type": "markdown",
      "metadata": {
        "tags": [
          "AST"
        ],
        "id": "nkV41BcusSe3"
      },
      "source": [
        "### Problem 1.2 (Exam Style)"
      ]
    },
    {
      "cell_type": "markdown",
      "metadata": {
        "id": "qMF428A3vEcm"
      },
      "source": [
        "Let $A$ be the square matrix with the left inverse $L$.\n",
        "\n",
        "$$LA = I$$\n",
        "$$L = A^{-1}$$\n",
        "$$AL = I$$\n",
        "\n",
        "This implies that the left inverse of $A$ is also the right inverse of A.\n",
        "\n",
        "**Therefore, $L = R$**."
      ]
    },
    {
      "cell_type": "markdown",
      "metadata": {
        "tags": [
          "AST"
        ],
        "id": "4h-SGuxzsSe3"
      },
      "source": [
        "### Problem 1.3 (Exam Style)"
      ]
    },
    {
      "cell_type": "markdown",
      "metadata": {
        "id": "alNmU73cyQzF"
      },
      "source": [
        "Let **c** be a unit vector in the hyperplane orthogonal to the unit vector **n**. The projection of the vector **a** onto **c** is given by:<br>\n",
        "\n",
        "$$h = cc^{T}a$$\n",
        "\n",
        "We also know that,\n",
        "$$p = nn^{T}a$$\n",
        "\n",
        "<br>This implies \n",
        "$$h + p = cc^{T}a + nn^{T}a = a$$\n",
        "$$(cc^{T} + nn^{T})a = Ia$$\n",
        "<br>\n",
        "\n",
        "Therefore,\n",
        "$$H = cc^{T} = I - nn^{T}$$"
      ]
    },
    {
      "cell_type": "markdown",
      "metadata": {
        "tags": [
          "AST"
        ],
        "id": "6PJAP15NsSe4"
      },
      "source": [
        "### Problem 1.4 (Exam Style)"
      ]
    },
    {
      "cell_type": "markdown",
      "metadata": {
        "id": "da10VRu4CX6e"
      },
      "source": [
        "The unit vector **c** can be obtained by taking the cross-product of the vectors **a** and **b** and then dividing that vector by its norm.\n",
        "\n",
        "$$c = \t\\begin{vmatrix}\n",
        "a_x & a_y & a_z\\\\\n",
        "b_x & b_y & b_z\n",
        "\\end{vmatrix}$$\n",
        "<br>\n",
        "$$c = \t\\begin{vmatrix}\n",
        "0 & 2 & 0\\\\\n",
        "1 & 3^{1/2} & 0\n",
        "\\end{vmatrix} = [0,0,-2]$$\n",
        "<br>\n",
        "Therefore, the required unit vector is $[0,0,-1]$"
      ]
    },
    {
      "cell_type": "markdown",
      "metadata": {
        "tags": [
          "AST"
        ],
        "id": "o1nkJTWDsSe4"
      },
      "source": [
        "### Problem 1.5 (Exam Style)"
      ]
    },
    {
      "cell_type": "markdown",
      "metadata": {
        "id": "i9j0gMqfERQB"
      },
      "source": [
        "The volume of the parallelepiped thus formed is given by the magnitude triple-product of the three vectors **a**, **b** and **c**.\n",
        "\n",
        "$$c = \t\\begin{vmatrix}\n",
        "a_x & a_y & a_z\\\\\n",
        "b_x & b_y & b_z\\\\\n",
        "c_x & c_y & c_z\n",
        "\\end{vmatrix} = \\begin{vmatrix}\n",
        "1 & 2 & 0\\\\\n",
        "-1 & 3 & 1\\\\\n",
        "0 & 0 & -4\n",
        "\\end{vmatrix} = -20$$\n",
        "<br>\n",
        "\n",
        "Therefore, the volume of the parallelepiped is **20**.\n",
        "\n"
      ]
    },
    {
      "cell_type": "markdown",
      "metadata": {
        "tags": [
          "AST"
        ],
        "id": "nQ29mPe9sSe4"
      },
      "source": [
        "### Problem 1.6 (Exam Style)"
      ]
    },
    {
      "cell_type": "markdown",
      "metadata": {
        "tags": [
          "AST"
        ],
        "id": "ZHf1nIU8sSe4"
      },
      "source": [
        "## Part 2: Rotations in the Plane "
      ]
    },
    {
      "cell_type": "markdown",
      "metadata": {
        "tags": [
          "AST"
        ],
        "id": "c61LusEhsSe5"
      },
      "source": [
        "### Problem 2.1 (Exam Style)"
      ]
    },
    {
      "cell_type": "markdown",
      "metadata": {
        "id": "yUDC1WMkI83v"
      },
      "source": [
        "Consider an object reference frame rotated counter-clockwise by an angle $θ$ with respect to a world reference frame in 2D. Let there be a point P whose coordinates with respect to the world reference frame is $(x,y)$ and with respect to the object reference frame be $(x_{obj},y_{obj})$. Our objective is to determine a rotation matrix $R$ that transforms $(x,y)$ to $(x_{obj},y_{obj})$.\n",
        "\n",
        "Using the concept of similarity of triangles, we obtain the following relations:\n",
        "$$x_{obj} = xcosθ + ysinθ$$\n",
        "$$y_{obj} = -xsinθ + ycosθ$$\n",
        "<br>\n",
        "Therefore, the rotation matrix $R$ is given by:\n",
        "\n",
        "$$\\begin{bmatrix}\n",
        "cosθ & sinθ\\\\\n",
        "-sinθ & cosθ\n",
        "\\end{bmatrix}$$"
      ]
    },
    {
      "cell_type": "markdown",
      "metadata": {
        "tags": [
          "AST"
        ],
        "id": "Pdqntt7_sSe5"
      },
      "source": [
        "### Problem 2.2 (Exam Style)"
      ]
    },
    {
      "cell_type": "markdown",
      "metadata": {
        "id": "dE6KaUDpLS-v"
      },
      "source": [
        "When we consider the rotation of a point by an angle $θ$ in the counter clockwise direction with respect to the world reference system, that is equivalent to the rotation of the object reference system by an angle of $-θ$ with respect to the world system.\n",
        "<br>\n",
        "\n",
        "Therefore, the rotation matrix in this case $\\tilde{R}$ is given by:\n",
        "\n",
        "$$\\begin{bmatrix}\n",
        "cosθ & -sinθ\\\\\n",
        "sinθ & cosθ\n",
        "\\end{bmatrix}$$"
      ]
    },
    {
      "cell_type": "markdown",
      "metadata": {
        "tags": [
          "AST"
        ],
        "id": "EThnQS7msSe5"
      },
      "source": [
        "### Problem 2.3 (Exam Style)"
      ]
    },
    {
      "cell_type": "markdown",
      "metadata": {
        "id": "oOz1E_HsMomF"
      },
      "source": [
        "Consider an object reference frame be rotated first by an angle $θ_1$ and then further by an angle $θ_2$ in the counter-clockwise direction  with respect to the world reference frame. \n",
        "\n",
        "The final coordinates of a point $P$ whose coordinates with respect to the world frame are $(x,y)$ after the transformations is given by:\n",
        "$$[x_{final},y_{final}] = \\begin{bmatrix}\n",
        "cosθ_2 & sinθ_2\\\\\n",
        "-sinθ_2 & cosθ_2\n",
        "\\end{bmatrix}\\begin{bmatrix}\n",
        "cosθ_1 & sinθ_1\\\\\n",
        "-sinθ_1 & cosθ_1\n",
        "\\end{bmatrix}[x,y] = \\begin{bmatrix}\n",
        "cos(θ_1+θ_2) & sin(θ_1+θ_2)\\\\\n",
        "-sin(θ_1+θ_2) & cos(θ_1+θ_2)\n",
        "\\end{bmatrix}[x,y]$$\n",
        "<br>\n",
        "\n",
        "Let us now consider the case in which we first rotate the object frame by an angle $θ_2$ in the counter-clockwise direction  with respect to the world reference frame and the further by $θ_1$. In this scenario, the final coordinates of the point $P$ are obtained as follows:\n",
        "$$[x_{final}^{'},y_{final}^{'}] = \\begin{bmatrix}\n",
        "cosθ_1 & sinθ_1\\\\\n",
        "-sinθ_1 & cosθ_1\n",
        "\\end{bmatrix}\\begin{bmatrix}\n",
        "cosθ_2 & sinθ_2\\\\\n",
        "-sinθ_2 & cosθ_2\n",
        "\\end{bmatrix}[x,y] = \\begin{bmatrix}\n",
        "cos(θ_1+θ_2) & sin(θ_1+θ_2)\\\\\n",
        "-sin(θ_1+θ_2) & cos(θ_1+θ_2)\n",
        "\\end{bmatrix}[x,y]$$\n",
        "<br>\n",
        "\n",
        "Clearly, we can see that:\n",
        "$$[x_{final},y_{final}] = [x_{final}^{'},y_{final}^{'}]$$\n",
        "\n",
        "Hence, the rotations $R_1R_2$ is the same as $R_2R_1$ and this is the commutative property that they satisfy.\n",
        "\n",
        "\n"
      ]
    },
    {
      "cell_type": "markdown",
      "metadata": {
        "tags": [
          "AST"
        ],
        "id": "ViGBov96sSe5"
      },
      "source": [
        "## Part 3: Euler's Rotation Theorem "
      ]
    },
    {
      "cell_type": "markdown",
      "metadata": {
        "tags": [
          "AST"
        ],
        "id": "2lP3SxTjsSe5"
      },
      "source": [
        "### Problem 3.1 (Exam Style)"
      ]
    },
    {
      "cell_type": "markdown",
      "metadata": {
        "tags": [
          "AST"
        ],
        "id": "ILjOs0l2sSe5"
      },
      "source": [
        "### Problem 3.2"
      ]
    },
    {
      "cell_type": "code",
      "metadata": {
        "tags": [
          "AST"
        ],
        "id": "0qojGWxGsSe6"
      },
      "source": [
        "import numpy as np\n",
        "\n",
        "def rotation_basis(r):\n",
        "    assert r.shape == (3,), 'a must be a 3-vector'\n",
        "    u, _, vt = np.linalg.svd(np.expand_dims(r, axis=1))\n",
        "    if vt[0, 0] < 0:  # make sure that a is not flipped\n",
        "        u = -u\n",
        "    if np.linalg.det(u) < 0:  # make sure that u is right-handed\n",
        "        u[:, (1, 2)] = u[:, (2, 1)]\n",
        "    return u"
      ],
      "execution_count": null,
      "outputs": []
    },
    {
      "cell_type": "code",
      "metadata": {
        "tags": [
          "AST"
        ],
        "id": "_CIY0MdKsSe6",
        "outputId": "7407030a-1c4a-4da4-ff7b-b3d254cfdd84"
      },
      "source": [
        "import urllib.request\n",
        "import pickle\n",
        "from os import path as osp\n",
        "\n",
        "\n",
        "def retrieve(file_name, semester='spring21', homework=7):\n",
        "    if osp.exists(file_name):\n",
        "        print('Using previously downloaded file {}'.format(file_name))\n",
        "    else:\n",
        "        fmt = 'https://www2.cs.duke.edu/courses/{}/compsci527/homework/{}/{}'\n",
        "        url = fmt.format(semester, homework, file_name)\n",
        "        urllib.request.urlretrieve(url, file_name)\n",
        "        print('Downloaded file {}'.format(file_name))\n",
        "\n",
        "rotations_pickle = 'rotations.pkl'\n",
        "retrieve(rotations_pickle)\n",
        "with open(rotations_pickle, 'rb') as file:\n",
        "    rotations = pickle.load(file)"
      ],
      "execution_count": null,
      "outputs": [
        {
          "output_type": "stream",
          "text": [
            "Using previously downloaded file rotations.pkl\n"
          ],
          "name": "stdout"
        }
      ]
    },
    {
      "cell_type": "code",
      "metadata": {
        "tags": [
          "AST"
        ],
        "id": "8YrJcQ1usSe7"
      },
      "source": [
        "def print_array(a, name=None, unit=None, indent=0):\n",
        "    dims = a.ndim\n",
        "    assert dims == 1 or dims == 2, 'Can only print vectors or matrices'\n",
        "    tabs = '\\t' * indent\n",
        "    prefix = tabs if name is None else '{}{}: '.format(tabs, name)\n",
        "    suffix = '' if unit is None else ' {}'.format(unit)\n",
        "    with np.printoptions(precision=3, suppress=True):\n",
        "        if dims == 1:\n",
        "            print('{}{}{}'.format(prefix, a, suffix))\n",
        "        else:\n",
        "            if len(suffix):\n",
        "                suffix = ' ({})'.format(suffix)\n",
        "            print('{}'.format(prefix, suffix))\n",
        "            for row in a:\n",
        "                print(tabs, '\\t', row, sep='', end='\\n')"
      ],
      "execution_count": null,
      "outputs": []
    },
    {
      "cell_type": "markdown",
      "metadata": {
        "tags": [
          "AST"
        ],
        "id": "TYjdHjFTsSe7"
      },
      "source": [
        "### Problem 3.3"
      ]
    },
    {
      "cell_type": "code",
      "metadata": {
        "tags": [
          "AST"
        ],
        "id": "OW63hsabsSe7"
      },
      "source": [
        "def rotation_x(theta):\n",
        "    c, s = np.cos(theta), np.sin(theta)\n",
        "    plane_rotation = np.array([[c, -s], [s, c]])\n",
        "    rx = np.eye(3)\n",
        "    rx[np.ix_((1, 2), (1, 2))] = plane_rotation\n",
        "    return rx"
      ],
      "execution_count": null,
      "outputs": []
    },
    {
      "cell_type": "code",
      "metadata": {
        "tags": [
          "AST"
        ],
        "id": "em-IdPhBsSe7",
        "outputId": "36e3f979-6eb4-458a-878f-181426f7fd1d"
      },
      "source": [
        "axis_angle_pickle = 'angle_axis.pkl'\n",
        "\n",
        "retrieve(axis_angle_pickle)\n",
        "with open(axis_angle_pickle, 'rb') as file:\n",
        "    vectors = pickle.load(file)"
      ],
      "execution_count": null,
      "outputs": [
        {
          "output_type": "stream",
          "text": [
            "Using previously downloaded file angle_axis.pkl\n"
          ],
          "name": "stdout"
        }
      ]
    },
    {
      "cell_type": "markdown",
      "metadata": {
        "tags": [
          "AST"
        ],
        "id": "e7CR4iN1sSe8"
      },
      "source": [
        "## Part 4: Perspective Projection "
      ]
    },
    {
      "cell_type": "markdown",
      "metadata": {
        "tags": [
          "AST"
        ],
        "id": "89_eVIIcsSe8"
      },
      "source": [
        "### Problem 4.1"
      ]
    },
    {
      "cell_type": "code",
      "metadata": {
        "tags": [
          "AST"
        ],
        "id": "KGFSWKVisSe8"
      },
      "source": [
        "def transform(p, r=None, t=None):\n",
        "    if r is None:\n",
        "        r = np.eye(p.shape[0])\n",
        "    if t is None:\n",
        "        t = np.zeros(p.shape[0])\n",
        "    shifts = np.outer(t, np.ones(p.shape[1]))\n",
        "    return r @ (p - shifts)"
      ],
      "execution_count": null,
      "outputs": []
    },
    {
      "cell_type": "code",
      "metadata": {
        "tags": [
          "AST"
        ],
        "id": "pUfT8r78sSe8"
      },
      "source": [
        "radius_mm, distance_mm = 60., 200.\n",
        "t_mm = distance_mm * np.ones(3, dtype=float) / np.sqrt(3.)"
      ],
      "execution_count": null,
      "outputs": []
    },
    {
      "cell_type": "markdown",
      "metadata": {
        "id": "sdvuVMAHsSe8"
      },
      "source": [
        "![field of view](https://www2.cs.duke.edu/courses/spring21/compsci527/homework/7/fov.png)"
      ]
    },
    {
      "cell_type": "code",
      "metadata": {
        "tags": [
          "AST"
        ],
        "id": "0EjZ9Hk5sSe9"
      },
      "source": [
        "def print_camera(model):\n",
        "    with np.printoptions(precision=3, suppress=True):\n",
        "        print('Extrinsic parameters:')\n",
        "        print_array(model.t, 'Origin', 'mm', indent=1)\n",
        "        print_array(model.R, 'Rotation matrix', indent=1)\n",
        "\n",
        "        print('\\nIntrinsic parameters:')\n",
        "        print('\\tFocal distance: {:.3f} mm'.format(model.f))\n",
        "        print_array(model.s, 'Scaling', 'pixels per mm', indent=1)\n",
        "        print_array(model.pi, 'Principal point', 'pixels', indent=1)"
      ],
      "execution_count": null,
      "outputs": []
    },
    {
      "cell_type": "markdown",
      "metadata": {
        "tags": [
          "AST"
        ],
        "id": "NyrjIojlsSe9"
      },
      "source": [
        "### Problem 4.2"
      ]
    },
    {
      "cell_type": "code",
      "metadata": {
        "tags": [
          "AST"
        ],
        "id": "2YLvmQohsSe9",
        "outputId": "054f7eef-a275-4450-d8a2-2610b1baa466"
      },
      "source": [
        "retrieve('transform.py')\n",
        "retrieve('rubik.py')\n",
        "\n",
        "from rubik import new_cube, draw_cube\n",
        "\n",
        "rubik_cube = new_cube()\n",
        "# draw_cube(rubik_cube, camera)"
      ],
      "execution_count": null,
      "outputs": [
        {
          "output_type": "stream",
          "text": [
            "Using previously downloaded file transform.py\n",
            "Using previously downloaded file rubik.py\n"
          ],
          "name": "stdout"
        }
      ]
    },
    {
      "cell_type": "code",
      "metadata": {
        "tags": [
          "AST"
        ],
        "id": "BWAIGFomsSe9"
      },
      "source": [
        "rear_t_mm = distance_mm * np.array((-1, -1, 2), \\\n",
        "                                   dtype=float) / np.sqrt(6.)"
      ],
      "execution_count": null,
      "outputs": []
    },
    {
      "cell_type": "code",
      "metadata": {
        "id": "D7ab2Gd0sSe9"
      },
      "source": [
        ""
      ],
      "execution_count": null,
      "outputs": []
    }
  ]
}