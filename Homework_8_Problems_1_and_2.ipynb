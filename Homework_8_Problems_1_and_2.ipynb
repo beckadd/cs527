{
  "nbformat": 4,
  "nbformat_minor": 0,
  "metadata": {
    "colab": {
      "name": "Homework_8_Problems_1_and_2.ipynb",
      "provenance": []
    },
    "kernelspec": {
      "name": "python3",
      "display_name": "Python 3"
    },
    "language_info": {
      "name": "python"
    }
  },
  "cells": [
    {
      "cell_type": "markdown",
      "metadata": {
        "id": "OGWYkmbE-Mov"
      },
      "source": [
        "##Problem 1.1"
      ]
    },
    {
      "cell_type": "markdown",
      "metadata": {
        "id": "sxnjK8ss_Bw4"
      },
      "source": [
        "The translation vector from $a$ to $b$ can be given as the following:\n",
        "\n",
        "$$ t_{ab} = t_b - t_a = \\begin{bmatrix}\n",
        "4\\\\\n",
        "1\\\\\n",
        "0\n",
        "\\end{bmatrix} - \n",
        "\\begin{bmatrix}\n",
        "2\\\\\n",
        "1\\\\\n",
        "0\n",
        "\\end{bmatrix} = \\begin{bmatrix}\n",
        "2\\\\\n",
        "0\\\\\n",
        "0\n",
        "\\end{bmatrix}$$<br>\n",
        "\n",
        "The rotation matrix $R_{ab}$ can be obtained using composite matrix operations:\n",
        "\n",
        "$$R_{ab} = \\begin{bmatrix}\n",
        "C_{a+b} & -S_{a+b} & 0\\\\\n",
        "S_{a+b} & C_{a+b} & 0\\\\\n",
        "0 & 0 & 1\n",
        "\\end{bmatrix} = \\begin{bmatrix}\n",
        "0 & -1 & 0\\\\\n",
        "1 & 0 & 0\\\\\n",
        "0 & 0 & 1\n",
        "\\end{bmatrix} $$<br>\n",
        "\n",
        "The essential matrix $E$, is given by the following formula:\n",
        "$$ E = R_{ab}[t_{ab}]_X = \\begin{bmatrix}\n",
        "0 & -1 & 0\\\\\n",
        "1 & 0 & 0\\\\\n",
        "0 & 0 & 1\n",
        "\\end{bmatrix}\\begin{bmatrix}\n",
        "0 & 0 & 0\\\\\n",
        "0 & 0 & -2\\\\\n",
        "0 & 2 & 0\n",
        "\\end{bmatrix} = \\begin{bmatrix}\n",
        "0 & 0 & 2\\\\\n",
        "0 & 0 & 0\\\\\n",
        "0 & 2 & 0\n",
        "\\end{bmatrix} $$"
      ]
    },
    {
      "cell_type": "markdown",
      "metadata": {
        "id": "LAVzY41lEQuG"
      },
      "source": [
        "##Problem 2.1"
      ]
    },
    {
      "cell_type": "markdown",
      "metadata": {
        "id": "kFErMZySEUHw"
      },
      "source": [
        "From the essential matrix $E$ given in the question:\n",
        "\n",
        "$$E = \\begin{bmatrix}\n",
        "1 & 0 & -1\\\\\n",
        "0 & 0 & 0\\\\\n",
        "1 & 0 & 1\n",
        "\\end{bmatrix}$$\n",
        "<br>\n",
        "Two unit vectors $t_1$ and $t_2$ can be obtained by taking the Singular Value Decomposition of E and then taking the last column of the vector $V$ but with sign ambiguity.\n",
        "\n",
        "<br>\n",
        "$$E = USV^T$$\n",
        "$$t = V[:,-1]$$\n",
        "\n",
        "Therefore, $t_1$ and $t_2$ are respectively\n",
        "$$\\begin{bmatrix}\n",
        "0\\\\\n",
        "1\\\\\n",
        "0\n",
        "\\end{bmatrix},\\begin{bmatrix}\n",
        "0\\\\\n",
        "-1\\\\\n",
        "0\n",
        "\\end{bmatrix}$$"
      ]
    },
    {
      "cell_type": "markdown",
      "metadata": {
        "id": "V7oqyXa8FrRV"
      },
      "source": [
        "##Problem 2.2"
      ]
    },
    {
      "cell_type": "markdown",
      "metadata": {
        "id": "lSrj0J0JFx0y"
      },
      "source": [
        "For the case when:\n",
        "$$t_1 =\\begin{bmatrix}\n",
        "0\\\\\n",
        "1\\\\\n",
        "0\n",
        "\\end{bmatrix}$$\n",
        "\n",
        "We can obtain $R_1$ by the following method:\n",
        "\n",
        "Say that\n",
        "\n",
        "$$R_1 = \\begin{bmatrix}\n",
        "r_{11} & r_{12} & r_{13}\\\\\n",
        "r_{21} & r_{22} & r_{23}\\\\\n",
        "r_{31} & r_{32} & r_{33}\n",
        "\\end{bmatrix} $$\n",
        "\n",
        "Then:\n",
        "\n",
        "$$E = R_1[t_1]_X$$\n",
        "<br>\n",
        "$$\\begin{bmatrix}\n",
        "1 & 0 & -1\\\\\n",
        "0 & 0 & 0\\\\\n",
        "1 & 0 & 1\n",
        "\\end{bmatrix} = \\begin{bmatrix}\n",
        "r_{11} & r_{12} & r_{13}\\\\\n",
        "r_{21} & r_{22} & r_{23}\\\\\n",
        "r_{31} & r_{32} & r_{33}\n",
        "\\end{bmatrix}\\begin{bmatrix}\n",
        "0 & 0 & 1\\\\\n",
        "0 & 0 & 0\\\\\n",
        "-1 & 0 & 0\n",
        "\\end{bmatrix} $$\n",
        "<br>\n",
        "Solving for $R_1$ with the constraint that the columns need to be orthogonal to each other and unit norm:\n",
        "\n",
        "$$R_1 = \\begin{bmatrix}\n",
        "\\frac{-1}{\\sqrt{2}} & 0 & \\frac{-1}{\\sqrt{2}}\\\\\n",
        "0 & 1 & 0\\\\\n",
        "\\frac{1}{\\sqrt{2}} & 0 & \\frac{-1}{\\sqrt{2}}\n",
        "\\end{bmatrix}$$\n",
        "<br>\n",
        "Similarly, for the case when:\n",
        "$$t_1 =\\begin{bmatrix}\n",
        "0\\\\\n",
        "-1\\\\\n",
        "0\n",
        "\\end{bmatrix}$$\n",
        "\n",
        "Then\n",
        "$$R_2 = \\begin{bmatrix}\n",
        "\\frac{1}{\\sqrt{2}} & 0 & \\frac{1}{\\sqrt{2}}\\\\\n",
        "0 & 1 & 0\\\\\n",
        "\\frac{-1}{\\sqrt{2}} & 0 & \\frac{1}{\\sqrt{2}}\n",
        "\\end{bmatrix}$$"
      ]
    },
    {
      "cell_type": "markdown",
      "metadata": {
        "id": "qTlMSWcuMrBR"
      },
      "source": [
        "##Problem 2.3"
      ]
    },
    {
      "cell_type": "markdown",
      "metadata": {
        "id": "s6TLPIw7PS5i"
      },
      "source": [
        "From the formula:\n",
        "$$b^{T}Ea = 0$$\n",
        "<br>\n",
        "$$\\begin{bmatrix}\n",
        "3 &\n",
        "2 &\n",
        "1\n",
        "\\end{bmatrix}\\begin{bmatrix}\n",
        "1 & 0 & -1\\\\\n",
        "0 & 0 & 0\\\\\n",
        "1 & 0 & 1\n",
        "\\end{bmatrix}\\begin{bmatrix}\n",
        "x_1\\\\\n",
        "x_2\\\\\n",
        "1\n",
        "\\end{bmatrix} = 0$$\n",
        "<br>\n",
        "$$\\begin{bmatrix}\n",
        "4 &\n",
        "0 &\n",
        "-2\n",
        "\\end{bmatrix}\\begin{bmatrix}\n",
        "x_1\\\\\n",
        "x_2\\\\\n",
        "1\n",
        "\\end{bmatrix} = 0$$\n",
        "\n",
        "Therefore, the equation of the epipolar line is:\n",
        "\n",
        "$$2x_1 - 1 = 0$$"
      ]
    },
    {
      "cell_type": "code",
      "metadata": {
        "id": "Emnk7y-Z9wF-"
      },
      "source": [
        ""
      ],
      "execution_count": null,
      "outputs": []
    }
  ]
}