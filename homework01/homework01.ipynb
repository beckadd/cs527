{
 "cells": [
  {
   "cell_type": "markdown",
   "metadata": {
    "tags": [
     "AST"
    ]
   },
   "source": [
    "<style>\n",
    "    @media print{\n",
    "        body {\n",
    "            position:relative !important;\n",
    "        }\n",
    "        .celltag_new_page {\n",
    "            page-break-before: always !important;\n",
    "        }\n",
    "    }\n",
    "</style>\n",
    "# COMPSCI 527 Homework 1"
   ]
  },
  {
   "cell_type": "markdown",
   "metadata": {
    "tags": [
     "AT"
    ]
   },
   "source": [
    "### Problem 0 (3 points)"
   ]
  },
  {
   "cell_type": "markdown",
   "metadata": {
    "tags": [
     "AST"
    ]
   },
   "source": [
    "## Part 1: Correlation and Convolution Basics"
   ]
  },
  {
   "source": [
    "In general, correlation has the following formula:\n",
    "\n",
    "$$\n",
    "corr(r, c) = \\sum^{h}_{u = -h} \\sum^{h}_{v = -h} I(r + u, c + v)T(u, v)\n",
    "$$ \n",
    "\n",
    "while convolution has the formula:\n",
    "\n",
    "$$\n",
    "conv(r, c) = \\sum^{h}_{u = -h} \\sum^{h}_{v = -h} I(r - u, c - v)H(u, v)\n",
    "$$\n",
    "\n",
    "where, for some matrix with dimensions $R \\times C$ a \"window\" in the matrix is centered at $(r,c) \\in (R,C)$. Each pixel in the window spanning from $(r - h, c - h)$ to $(r + h, c + h)$ (where h is the \"radius\" of the window) is transformed by a kernel or template."
   ],
   "cell_type": "markdown",
   "metadata": {}
  },
  {
   "cell_type": "markdown",
   "metadata": {
    "tags": [
     "AST"
    ]
   },
   "source": [
    "### Problem 1.1 (Exam Style)"
   ]
  },
  {
   "cell_type": "markdown",
   "metadata": {
    "tags": [
     "AST"
    ]
   },
   "source": [
    "### Problem 1.2 (Exam Style)"
   ]
  },
  {
   "cell_type": "markdown",
   "metadata": {
    "tags": [
     "AST"
    ]
   },
   "source": [
    "### Problem 1.3 (Exam Style)"
   ]
  },
  {
   "cell_type": "markdown",
   "metadata": {
    "tags": [
     "AST"
    ]
   },
   "source": [
    "## Part 2: Implementing Convolution"
   ]
  },
  {
   "cell_type": "code",
   "execution_count": null,
   "metadata": {
    "tags": [
     "AST"
    ]
   },
   "outputs": [],
   "source": [
    "import numpy as np\n",
    "import scipy.signal as ss\n",
    "from time import perf_counter as stopwatch\n",
    "\n",
    "\n",
    "def add_timer(f):\n",
    "    def wrapper(*args, **kwargs):\n",
    "        tic = stopwatch()\n",
    "        ret = f(*args, **kwargs)\n",
    "        t = stopwatch() - tic\n",
    "        return ret, t\n",
    "\n",
    "    return wrapper\n",
    "\n",
    "\n",
    "@add_timer\n",
    "def convolution(f, h, mode='valid'):\n",
    "    assert f.ndim == h.ndim, 'inputs must have the same number of dimensions'\n",
    "    g = ss.convolve(f, h, mode=mode, method='direct')\n",
    "    return g.astype(f.dtype)"
   ]
  },
  {
   "cell_type": "code",
   "execution_count": null,
   "metadata": {
    "tags": [
     "AST"
    ]
   },
   "outputs": [],
   "source": [
    "from urllib.request import urlretrieve as retrieve\n",
    "from os import path as osp\n",
    "from PIL import Image\n",
    "from matplotlib import pyplot as plt\n",
    "%matplotlib inline\n",
    "\n",
    "\n",
    "def show_image(img, name=None):\n",
    "    plt.imshow(img, cmap='gray')\n",
    "    if name is not None:\n",
    "        plt.title(name)\n",
    "    plt.axis('off')\n",
    "    \n",
    "\n",
    "local_file_name = 'breakfast.png'\n",
    "if not osp.exists(local_file_name):\n",
    "    image_url = 'https://www2.cs.duke.edu/courses/spring21/' +\\\n",
    "                'compsci527/homework/1/breakfast.png'\n",
    "    retrieve(image_url, local_file_name)\n",
    "image = np.array(Image.open(local_file_name))"
   ]
  },
  {
   "cell_type": "code",
   "execution_count": null,
   "metadata": {
    "tags": [
     "AST"
    ]
   },
   "outputs": [],
   "source": [
    "m = n = 16\n",
    "box = np.ones((m, n), dtype=float) / (m * n)\n",
    "smooth, process_time = convolution(image, box)\n",
    "print('The convolution took {:.3f} seconds to compute'.format(process_time))\n",
    "\n",
    "plt.figure(figsize=(16, 7))\n",
    "for plot, (img, name) in enumerate(((image, 'input'),\n",
    "                                    (smooth, 'output with m = {}'.format(m)))): \n",
    "    plt.subplot(1, 2, plot + 1)\n",
    "    show_image(img, name)\n",
    "plt.show()"
   ]
  },
  {
   "cell_type": "code",
   "execution_count": null,
   "metadata": {
    "tags": [
     "AST"
    ]
   },
   "outputs": [],
   "source": [
    "def largest_difference(i, j):\n",
    "    return np.amax(np.abs(i.astype(int) - j.astype(int)))"
   ]
  },
  {
   "cell_type": "markdown",
   "metadata": {
    "tags": [
     "AST"
    ]
   },
   "source": [
    "### Problem 2.1"
   ]
  },
  {
   "cell_type": "code",
   "execution_count": null,
   "metadata": {},
   "outputs": [],
   "source": [
    "@add_timer\n",
    "def python_convolution(f, h):\n",
    "    '''\n",
    "    Instructions for 'valid' convolution\n",
    "    '''\n",
    "\n",
    "    assert f.ndim == 2, 'input array must be two-dimensional'\n",
    "    assert h.ndim == 2, 'kernel must be two-dimensional' \n",
    "\n",
    "    #get input matrices' data\n",
    "    f_rows, f_cols = len(f), len(f[0])\n",
    "    h_rows, h_cols = len(h), len(h[0])\n",
    "\n",
    "    #figure out the \"midpoint\" indices for h in order to traverse across f\n",
    "\n",
    "    \n",
    "\n",
    "    #generate output matrix\n",
    "    output_rows, output_cols = f_rows - h_rows + 1, f_cols - h_cols + 1\n",
    "    output_matrix = np.zeros(shape = (output_rows, output_cols))\n",
    "\n",
    "    for r in range(output_rows):\n",
    "        for c in range(output_cols):        \n",
    "            for h_row in range(h_rows):\n",
    "                for h_col in range(h_cols):\n",
    "                    output_matrix[r, c] = output_matrix[r, c] + h[h_rows - h_row - 1, h_cols - h_col - 1] * f[r + h_row, c + h_col]\n",
    "    \n",
    "\n",
    "    return output_matrix"
   ]
  },
  {
   "cell_type": "code",
   "execution_count": null,
   "metadata": {},
   "outputs": [],
   "source": [
    "I = np.array(\n",
    "    [\n",
    "        [1,  0,  3, -2,  0],\n",
    "        [0,  2, -1,  4,  0],\n",
    "        [0,  1,  0,  1,  0],\n",
    "        [2, -2,  0,  1, -1]\n",
    "    ])\n",
    "H = np.array(\n",
    "    [\n",
    "        [2,  0, 1],\n",
    "        [1, -1, 3]\n",
    "    ])\n",
    "J = np.array(\n",
    "    [\n",
    "        [4,  0],\n",
    "        [1, -5]\n",
    "    ])\n",
    "K = np.array(\n",
    "    [[1, 0, -1]])"
   ]
  },
  {
   "cell_type": "markdown",
   "metadata": {
    "tags": [
     "AST"
    ]
   },
   "source": [
    "### Problem 2.2"
   ]
  },
  {
   "cell_type": "code",
   "execution_count": null,
   "metadata": {},
   "outputs": [],
   "source": [
    "@add_timer\n",
    "def separable_convolution(f, h, mode = \"valid\"): \n",
    "    m_by_one, one_by_n = h\n",
    "    convolution_intermediate = ss.convolve(f, m_by_one, mode)\n",
    "    convolution_final = ss.convolve(convolution_intermediate, one_by_n, mode)\n",
    "    return convolution_final\n"
   ]
  },
  {
   "cell_type": "code",
   "execution_count": null,
   "metadata": {},
   "outputs": [],
   "source": [
    "round_val = 3\n",
    "m = [2**i for i in range(1,7)]\n",
    "\n",
    "data = {\n",
    "    'm': [],\n",
    "    'pyconv_times': [],\n",
    "    'spconv_times': [],\n",
    "    'differences': []\n",
    "}\n",
    "for m_val in m:\n",
    "    \n",
    "    box_filter_m_by_one = np.ones((m_val, 1), dtype = float) / m_val\n",
    "    box_filter_one_by_n = np.ones((1, m_val), dtype = float) / m_val\n",
    "    box_filter = box_filter_m_by_one * box_filter_one_by_n\n",
    "    \n",
    "    pyconv_image, pyconv_time = python_convolution(image, box_filter)\n",
    "    spconv_image, spconv_time = separable_convolution(image, (box_filter_m_by_one, box_filter_one_by_n))\n",
    "    largest_diff = largest_difference(pyconv_image, spconv_image)\n",
    "    \n",
    "    data['m'].append(m_val)\n",
    "    data['pyconv_times'].append(round(pyconv_time, round_val))\n",
    "    data['spconv_times'].append(round(spconv_time, round_val))\n",
    "    data['differences'].append(round(largest_diff, round_val))\n",
    "\n"
   ]
  },
  {
   "cell_type": "code",
   "execution_count": null,
   "metadata": {},
   "outputs": [],
   "source": [
    "from tabulate import tabulate\n",
    "print(tabulate(data, headers = 'keys', tablefmt = \"github\")) "
   ]
  },
  {
   "cell_type": "markdown",
   "metadata": {
    "tags": [
     "AST"
    ]
   },
   "source": [
    "### Problem 2.3"
   ]
  },
  {
   "cell_type": "code",
   "execution_count": null,
   "metadata": {
    "tags": [
     "AST"
    ]
   },
   "outputs": [],
   "source": [
    "import skimage.transform.integral as integral\n",
    "\n",
    "\n",
    "def integral_image(f):\n",
    "    return np.pad(integral.integral_image(f), ((1, 0), (1, 0)))"
   ]
  },
  {
   "cell_type": "code",
   "execution_count": null,
   "metadata": {},
   "outputs": [],
   "source": [
    "@add_timer                      # something's wrong down here\n",
    "def box_convolution(f, size):\n",
    "    F = integral_image(f)\n",
    "    m, n = size\n",
    "    F_s = F[m:, n:] #just outside of the mxn box\n",
    "    F_q = F[:m, n:] #just after the nth column, always inside the mth row \n",
    "    F_r = F[m:, :n] #just under the mth row, always inside the nth column \n",
    "    F_p = F[:m, :n] #always inside the mxn box\n",
    "    -F_r + F_p\n",
    "    return convolution"
   ]
  },
  {
   "cell_type": "code",
   "execution_count": null,
   "metadata": {},
   "outputs": [],
   "source": [
    "report_table = {\n",
    "    'time' : {\n",
    "        'convolution' : None,\n",
    "        'separable_convolution' : None,\n",
    "        'box_convolution' : None,\n",
    "    },\n",
    "    'speedup_factors' : {\n",
    "        'convolution-separable_convolution' : None,\n",
    "        'convolution-box_convolution' : None,\n",
    "        'separable_convolution-box_convolution' : None,\n",
    "    },\n",
    "    'largest_difference' : {\n",
    "        'convolution-separable_convolution': None,\n",
    "        'convolution-box_convolution': None,\n",
    "    }\n",
    "}"
   ]
  },
  {
   "cell_type": "code",
   "execution_count": null,
   "metadata": {},
   "outputs": [],
   "source": [
    "m, n = 32, 64\n",
    "box_filter = np.ones(shape = (m, n), dtype = float)/(m*n)\n",
    "\n",
    "#image_pc, report_table['time']['convolution'] = python_convolution(image, box_filter)\n",
    "#image_sc, report_table['time']['separable_convolution'] = separable_convolution(image, box_filter)\n",
    "image_bc, report_table['time']['box_convolution'] = box_convolution(image, (m, n))"
   ]
  },
  {
   "cell_type": "code",
   "execution_count": null,
   "metadata": {},
   "outputs": [],
   "source": [
    "report_table['speedup_factors']['convolution-separable_convolution'] = report_table['time']['convolution']/report_table['time']['separable_convolution']\n",
    "report_table['speedup_factors']['convolution-box_convolution'] = report_table['time']['convolution']/report_table['time']['box_convolution']\n",
    "report_table['speedup_factors']['separable_convolution-box_convolution'] = report_table['time']['separable_convolution']/report_table['time']['box_convolution']\n",
    "\n",
    "report_table['largest_difference']['convolution-separable_convolution'] = largest_difference(image_pc, image_sc)\n",
    "report_table['largest_difference']['convolution-box_convolution'] = largest_difference(image_pc, image_bc)"
   ]
  },
  {
   "cell_type": "code",
   "execution_count": null,
   "metadata": {},
   "outputs": [],
   "source": [
    "print(tabulate(report_table['time'], headers = 'keys'))\n",
    "print(tabulate(report_table['speedup_factors'], headers = 'keys'))\n",
    "print(tabulate(report_table['largest_difference'], headers = 'keys'))"
   ]
  },
  {
   "cell_type": "markdown",
   "metadata": {
    "tags": [
     "AST"
    ]
   },
   "source": [
    "### Problem 2.4"
   ]
  }
 ],
 "metadata": {
  "kernelspec": {
   "display_name": "Python 3",
   "language": "python",
   "name": "python3"
  },
  "language_info": {
   "codemirror_mode": {
    "name": "ipython",
    "version": 3
   },
   "file_extension": ".py",
   "mimetype": "text/x-python",
   "name": "python",
   "nbconvert_exporter": "python",
   "pygments_lexer": "ipython3",
   "version": "3.8.5-final"
  },
  "pycharm": {
   "stem_cell": {
    "cell_type": "raw",
    "metadata": {
     "collapsed": false
    },
    "source": []
   }
  }
 },
 "nbformat": 4,
 "nbformat_minor": 2
}