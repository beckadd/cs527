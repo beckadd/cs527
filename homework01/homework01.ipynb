{
 "cells": [
  {
   "cell_type": "markdown",
   "metadata": {
    "tags": [
     "AST"
    ]
   },
   "source": [
    "<style>\n",
    "    @media print{\n",
    "        body {\n",
    "            position:relative !important;\n",
    "        }\n",
    "        .celltag_new_page {\n",
    "            page-break-before: always !important;\n",
    "        }\n",
    "    }\n",
    "</style>\n",
    "# COMPSCI 527 Homework 1"
   ]
  },
  {
   "cell_type": "markdown",
   "metadata": {
    "tags": [
     "AT"
    ]
   },
   "source": [
    "### Problem 0 (3 points)"
   ]
  },
  {
   "cell_type": "markdown",
   "metadata": {
    "tags": [
     "AST"
    ]
   },
   "source": [
    "## Part 1: Correlation and Convolution Basics"
   ]
  },
  {
   "source": [
    "In general, correlation has the following formula:\n",
    "\n",
    "$$\n",
    "corr(r, c) = \\sum^{h}_{u = -h} \\sum^{h}_{v = -h} I(r + u, c + v)T(u, v)\n",
    "$$ \n",
    "\n",
    "while convolution has the formula:\n",
    "\n",
    "$$\n",
    "conv(r, c) = \\sum^{h}_{u = -h} \\sum^{h}_{v = -h} I(r - u, c - v)H(u, v)\n",
    "$$\n",
    "\n",
    "where, for some matrix with dimensions $R \\times C$ a \"window\" in the matrix is centered at $(r,c) \\in (R,C)$. Each pixel in the window spanning from $(r - h, c - h)$ to $(r + h, c + h)$ (where h is the \"radius\" of the window) is transformed by a kernel or template."
   ],
   "cell_type": "markdown",
   "metadata": {}
  },
  {
   "source": [
    "$\n",
    "% formulas for the stuff in 1.1\n",
    "\\newcommand{\\conv}[3]{\\text{conv}(#1, #2, \\text{'#3'})}\n",
    "\\newcommand{\\corr}[3]{\\text{corr}(#1, #2, \\text{'#3'})}\n",
    "\\newcommand{\\I}{\n",
    "    \\begin{bmatrix}\n",
    "    1 &  0 &  3 & -2 &  0 \\\\\n",
    "    0 &  2 & -1 &  4 &  0 \\\\\n",
    "    0 &  1 &  0 &  1 &  0 \\\\\n",
    "    2 & -2 &  0 &  1 & -1 \\\\\n",
    "    \\end{bmatrix}\n",
    "}\n",
    "\\newcommand{\\J}{\n",
    "    \\begin{bmatrix}\n",
    "    4 &  0 \\\\\n",
    "    1 & -5 \\\\\n",
    "    \\end{bmatrix}\n",
    "}\n",
    "\\newcommand{\\H}{\n",
    "    \\begin{bmatrix}\n",
    "    2 & 0 & 1 \\\\\n",
    "    1 & -1 & 3 \\\\\n",
    "    \\begin{bmatrix}\n",
    "}\n",
    "\\newcommand{\\K}{\n",
    "    \\begin{bmatrix}\n",
    "    1 & 0 & -1\n",
    "    \\end{bmatrix}\n",
    "}\n",
    "$"
   ],
   "cell_type": "markdown",
   "metadata": {}
  },
  {
   "cell_type": "markdown",
   "metadata": {
    "tags": [
     "AST"
    ]
   },
   "source": [
    "### Problem 1.1 (Exam Style)"
   ]
  },
  {
   "source": [
    "$\n",
    "\\corr{I}{H}{valid} = \n",
    "    \\begin{bmatrix}\n",
    "         0 & 13 &  1 \\\\\n",
    "        -2 & 12 & -3 \\\\\n",
    "         4 &  4 & -4 \\\\\n",
    "    \\end{bmatrix}\n",
    "$"
   ],
   "cell_type": "markdown",
   "metadata": {}
  },
  {
   "source": [
    "$\n",
    "\\conv{I}{H}{valid} =\n",
    "    \\begin{bmatrix}\n",
    "         4 &  5 & 10 \\\\\n",
    "        -3 & 14 & -7 \\\\\n",
    "         1 &  4 &  1 \\\\\n",
    "    \\end{bmatrix}\n",
    "$"
   ],
   "cell_type": "markdown",
   "metadata": {}
  },
  {
   "source": [
    "$\n",
    "\\conv{I}{K}{valid} = \n",
    "    \\begin{bmatrix}\n",
    "         2 & -2 & -3 \\\\\n",
    "        -1 &  2 &  1 \\\\\n",
    "         0 &  0 &  0 \\\\\n",
    "        -2 &  3 & -1 \\\\\n",
    "    \\end{bmatrix}\n",
    "$"
   ],
   "cell_type": "markdown",
   "metadata": {}
  },
  {
   "source": [
    "$\n",
    "\\conv{J}{H}{full} =\n",
    "    \\begin{bmatrix}\n",
    "         8 &   0 &  4 &   0 \\\\\n",
    "         6 & -14 & 13 &  -5 \\\\\n",
    "         1 &  -6 &  8 & -15 \\\\\n",
    "    \\end{bmatrix}\n",
    "$"
   ],
   "cell_type": "markdown",
   "metadata": {}
  },
  {
   "source": [
    "$\n",
    "\\corr{J}{H}{same} = \n",
    "    \\begin{bmatrix}\n",
    "        4 &   0 \\\\\n",
    "        2 & -10 \\\\\n",
    "    \\end{bmatrix}\n",
    "$"
   ],
   "cell_type": "markdown",
   "metadata": {}
  },
  {
   "cell_type": "markdown",
   "metadata": {
    "tags": [
     "AST"
    ]
   },
   "source": [
    "### Problem 1.2 (Exam Style)"
   ]
  },
  {
   "source": [
    "For some matrix $H$ to be separable, there must be some column vector  $\\vec{h_c}$ of dimension $m \\times 1$ and some row vector $\\vec{h_r}$ of dimension $1 \\times n$ for which $H$ is the product. In other words,\n",
    "\n",
    "$$ \\vec{h_r} \\times \\vec{h_c} = H $$\n",
    "\n",
    "For any separable matrix, *the rank of that matrix is therefore 1*, because each row is a scalar multiple of the other rows. In particular, if the given matrix $H$ is separable, the vectors $\\vec{h_r}$ and $\\vec{h_c}$ are:\n",
    "\n",
    "$ \\vec{h_r} = \\begin{bmatrix} 1 & -1 & 2 \\end{bmatrix} $\n",
    "\n",
    "$ \\vec{h_c} = \\begin{bmatrix} 1 \\\\ -3 \\\\ 0 \\end{bmatrix} $\n",
    "\n",
    "This means that the missing values for this matrix are \n",
    "\n",
    "$$\n",
    "\\begin{bmatrix}\n",
    "1 & -1 & 2 \\\\\n",
    "a &  3 & b \\\\\n",
    "c &  d & 0 \\\\\n",
    "\\end{bmatrix}\n",
    "\n",
    "\\rightarrow\n",
    "\n",
    "\\begin{bmatrix}\n",
    " 1 & -1 & 2 \\\\\n",
    "-3 &  3 & 6 \\\\\n",
    " 0 &  0 & 0 \\\\\n",
    "\\end{bmatrix}\n",
    "\n",
    "$$\n",
    "\n",
    "$$(a, b, c, d) = (-3, -6, 0, 0)$$ "
   ],
   "cell_type": "markdown",
   "metadata": {}
  },
  {
   "cell_type": "markdown",
   "metadata": {
    "tags": [
     "AST"
    ]
   },
   "source": [
    "### Problem 1.3 (Exam Style)"
   ]
  },
  {
   "source": [
    "A kernel $H(x,y)$ is separable if the kernel can be equated to $H(x,y) = h(x)l(y)$.\n",
    "\n",
    "By extension, a kernel is not separable if for some $(x_0,y_0) \\in (x,y)$ the following equality is not preserved:\n",
    "\n",
    "$$ H(x_0, y_0)H(x,y) = H(x,y_0)H(x_0, y) $$"
   ],
   "cell_type": "markdown",
   "metadata": {}
  },
  {
   "source": [
    "$D(x,y) = xe^{x^2 + y}$:\n",
    "\n",
    "$$ d_1(x) = xe^{x^2} $$\n",
    "$$ d_2(y) = e^y $$"
   ],
   "cell_type": "markdown",
   "metadata": {}
  },
  {
   "source": [
    "$ L(x,y) = (x^2 + y^2)e^{x^2 + y^2} $:\n",
    "\n",
    "This function is not separable. For the value $(x_0, y_0)$, we have\n",
    "\n",
    "$$ L(x_0, y_0)L(x,y) \\stackrel{?}{=} L(x, y_0)L(x_0, y) $$\n",
    "$$ \n",
    "$$ l_1(x) =  $$\n",
    "$$ l_2(y) = $$"
   ],
   "cell_type": "markdown",
   "metadata": {}
  },
  {
   "source": [
    "$U(x,y) = 1$:\n",
    "\n",
    "$$u_1(x) = 1$$\n",
    "$$u_2(y) = 1$$"
   ],
   "cell_type": "markdown",
   "metadata": {}
  },
  {
   "cell_type": "markdown",
   "metadata": {
    "tags": [
     "AST"
    ]
   },
   "source": [
    "## Part 2: Implementing Convolution"
   ]
  },
  {
   "cell_type": "code",
   "execution_count": null,
   "metadata": {
    "tags": [
     "AST"
    ]
   },
   "outputs": [],
   "source": [
    "import numpy as np\n",
    "import scipy.signal as ss\n",
    "from time import perf_counter as stopwatch\n",
    "\n",
    "\n",
    "def add_timer(f):\n",
    "    def wrapper(*args, **kwargs):\n",
    "        tic = stopwatch()\n",
    "        ret = f(*args, **kwargs)\n",
    "        t = stopwatch() - tic\n",
    "        return ret, t\n",
    "\n",
    "    return wrapper\n",
    "\n",
    "\n",
    "@add_timer\n",
    "def convolution(f, h, mode='valid'):\n",
    "    assert f.ndim == h.ndim, 'inputs must have the same number of dimensions'\n",
    "    g = ss.convolve(f, h, mode=mode, method='direct')\n",
    "    return g.astype(f.dtype)"
   ]
  },
  {
   "cell_type": "code",
   "execution_count": null,
   "metadata": {
    "tags": [
     "AST"
    ]
   },
   "outputs": [],
   "source": [
    "from urllib.request import urlretrieve as retrieve\n",
    "from os import path as osp\n",
    "from PIL import Image\n",
    "from matplotlib import pyplot as plt\n",
    "%matplotlib inline\n",
    "\n",
    "\n",
    "def show_image(img, name=None):\n",
    "    plt.imshow(img, cmap='gray')\n",
    "    if name is not None:\n",
    "        plt.title(name)\n",
    "    plt.axis('off')\n",
    "    \n",
    "\n",
    "local_file_name = 'breakfast.png'\n",
    "if not osp.exists(local_file_name):\n",
    "    image_url = 'https://www2.cs.duke.edu/courses/spring21/' +\\\n",
    "                'compsci527/homework/1/breakfast.png'\n",
    "    retrieve(image_url, local_file_name)\n",
    "image = np.array(Image.open(local_file_name))"
   ]
  },
  {
   "cell_type": "code",
   "execution_count": null,
   "metadata": {
    "tags": [
     "AST"
    ]
   },
   "outputs": [],
   "source": [
    "m = n = 16\n",
    "box = np.ones((m, n), dtype=float) / (m * n)\n",
    "smooth, process_time = convolution(image, box)\n",
    "print('The convolution took {:.3f} seconds to compute'.format(process_time))\n",
    "\n",
    "plt.figure(figsize=(16, 7))\n",
    "for plot, (img, name) in enumerate(((image, 'input'),\n",
    "                                    (smooth, 'output with m = {}'.format(m)))): \n",
    "    plt.subplot(1, 2, plot + 1)\n",
    "    show_image(img, name)\n",
    "plt.show()"
   ]
  },
  {
   "cell_type": "code",
   "execution_count": null,
   "metadata": {
    "tags": [
     "AST"
    ]
   },
   "outputs": [],
   "source": [
    "def largest_difference(i, j):\n",
    "    return np.amax(np.abs(i.astype(int) - j.astype(int)))"
   ]
  },
  {
   "cell_type": "markdown",
   "metadata": {
    "tags": [
     "AST"
    ]
   },
   "source": [
    "### Problem 2.1"
   ]
  },
  {
   "cell_type": "code",
   "execution_count": null,
   "metadata": {},
   "outputs": [],
   "source": [
    "@add_timer\n",
    "def python_convolution(f, h):\n",
    "    '''\n",
    "    Instructions for 'valid' convolution\n",
    "    '''\n",
    "\n",
    "    assert f.ndim == 2, 'input array must be two-dimensional'\n",
    "    assert h.ndim == 2, 'kernel must be two-dimensional' \n",
    "\n",
    "    #get input matrices' data\n",
    "    f_rows, f_cols = len(f), len(f[0])\n",
    "    h_rows, h_cols = len(h), len(h[0])\n",
    "\n",
    "    #figure out the \"midpoint\" indices for h in order to traverse across f\n",
    "\n",
    "    \n",
    "\n",
    "    #generate output matrix\n",
    "    output_rows, output_cols = f_rows - h_rows + 1, f_cols - h_cols + 1\n",
    "    output_matrix = np.zeros(shape = (output_rows, output_cols))\n",
    "\n",
    "    for r in range(output_rows):\n",
    "        for c in range(output_cols):        \n",
    "            for h_row in range(h_rows):\n",
    "                for h_col in range(h_cols):\n",
    "                    output_matrix[r, c] = output_matrix[r, c] + h[h_rows - h_row - 1, h_cols - h_col - 1] * f[r + h_row, c + h_col]\n",
    "    \n",
    "\n",
    "    return output_matrix"
   ]
  },
  {
   "cell_type": "code",
   "execution_count": null,
   "metadata": {},
   "outputs": [],
   "source": [
    "I = np.array(\n",
    "    [\n",
    "        [1,  0,  3, -2,  0],\n",
    "        [0,  2, -1,  4,  0],\n",
    "        [0,  1,  0,  1,  0],\n",
    "        [2, -2,  0,  1, -1]\n",
    "    ])\n",
    "H = np.array(\n",
    "    [\n",
    "        [2,  0, 1],\n",
    "        [1, -1, 3]\n",
    "    ])\n",
    "J = np.array(\n",
    "    [\n",
    "        [4,  0],\n",
    "        [1, -5]\n",
    "    ])\n",
    "K = np.array(\n",
    "    [[1, 0, -1]])"
   ]
  },
  {
   "cell_type": "markdown",
   "metadata": {
    "tags": [
     "AST"
    ]
   },
   "source": [
    "### Problem 2.2"
   ]
  },
  {
   "cell_type": "code",
   "execution_count": null,
   "metadata": {},
   "outputs": [],
   "source": [
    "@add_timer\n",
    "def separable_convolution(f, h, mode = \"valid\"): \n",
    "    m_by_one, one_by_n = h\n",
    "    convolution_intermediate = ss.convolve(f, m_by_one, mode)\n",
    "    convolution_final = ss.convolve(convolution_intermediate, one_by_n, mode)\n",
    "    return convolution_final\n"
   ]
  },
  {
   "cell_type": "code",
   "execution_count": null,
   "metadata": {},
   "outputs": [],
   "source": [
    "round_val = 3\n",
    "m = [2**i for i in range(1,7)]\n",
    "\n",
    "data = {\n",
    "    'm': [],\n",
    "    'pyconv_times': [],\n",
    "    'spconv_times': [],\n",
    "    'differences': []\n",
    "}\n",
    "for m_val in m:\n",
    "    \n",
    "    box_filter_m_by_one = np.ones((m_val, 1), dtype = float) / m_val\n",
    "    box_filter_one_by_n = np.ones((1, m_val), dtype = float) / m_val\n",
    "    box_filter = box_filter_m_by_one * box_filter_one_by_n\n",
    "    \n",
    "    pyconv_image, pyconv_time = python_convolution(image, box_filter)\n",
    "    spconv_image, spconv_time = separable_convolution(image, (box_filter_m_by_one, box_filter_one_by_n))\n",
    "    largest_diff = largest_difference(pyconv_image, spconv_image)\n",
    "    \n",
    "    data['m'].append(m_val)\n",
    "    data['pyconv_times'].append(round(pyconv_time, round_val))\n",
    "    data['spconv_times'].append(round(spconv_time, round_val))\n",
    "    data['differences'].append(round(largest_diff, round_val))\n",
    "\n"
   ]
  },
  {
   "cell_type": "code",
   "execution_count": null,
   "metadata": {},
   "outputs": [],
   "source": [
    "from tabulate import tabulate\n",
    "print(tabulate(data, headers = 'keys', tablefmt = \"github\")) "
   ]
  },
  {
   "cell_type": "markdown",
   "metadata": {
    "tags": [
     "AST"
    ]
   },
   "source": [
    "### Problem 2.3"
   ]
  },
  {
   "cell_type": "code",
   "execution_count": null,
   "metadata": {
    "tags": [
     "AST"
    ]
   },
   "outputs": [],
   "source": [
    "import skimage.transform.integral as integral\n",
    "\n",
    "\n",
    "def integral_image(f):\n",
    "    return np.pad(integral.integral_image(f), ((1, 0), (1, 0)))"
   ]
  },
  {
   "cell_type": "code",
   "execution_count": null,
   "metadata": {},
   "outputs": [],
   "source": [
    "@add_timer                      # something's wrong down here\n",
    "def box_convolution(f, size):\n",
    "    F = integral_image(f)\n",
    "    m, n = size\n",
    "    F_s = F[m:, n:] # just outside of the mxn box\n",
    "    F_q = F[:m, n:] # just after the nth column, always inside the mth row \n",
    "    F_r = F[m:, :n] # just under the mth row, always inside the nth column \n",
    "    F_p = F[:m, :n] # always inside the mxn box\n",
    "    -F_r + F_p\n",
    "    return convolution"
   ]
  },
  {
   "cell_type": "code",
   "execution_count": null,
   "metadata": {},
   "outputs": [],
   "source": [
    "report_table = {\n",
    "    'time' : {\n",
    "        'convolution' : None,\n",
    "        'separable_convolution' : None,\n",
    "        'box_convolution' : None,\n",
    "    },\n",
    "    'speedup_factors' : {\n",
    "        'convolution-separable_convolution' : None,\n",
    "        'convolution-box_convolution' : None,\n",
    "        'separable_convolution-box_convolution' : None,\n",
    "    },\n",
    "    'largest_difference' : {\n",
    "        'convolution-separable_convolution': None,\n",
    "        'convolution-box_convolution': None,\n",
    "    }\n",
    "}"
   ]
  },
  {
   "cell_type": "code",
   "execution_count": null,
   "metadata": {},
   "outputs": [],
   "source": [
    "m, n = 32, 64\n",
    "box_filter = np.ones(shape = (m, n), dtype = float)/(m*n)\n",
    "\n",
    "#image_pc, report_table['time']['convolution'] = python_convolution(image, box_filter)\n",
    "#image_sc, report_table['time']['separable_convolution'] = separable_convolution(image, box_filter)\n",
    "image_bc, report_table['time']['box_convolution'] = box_convolution(image, (m, n))"
   ]
  },
  {
   "cell_type": "code",
   "execution_count": null,
   "metadata": {},
   "outputs": [],
   "source": [
    "report_table['speedup_factors']['convolution-separable_convolution'] = report_table['time']['convolution']/report_table['time']['separable_convolution']\n",
    "report_table['speedup_factors']['convolution-box_convolution'] = report_table['time']['convolution']/report_table['time']['box_convolution']\n",
    "report_table['speedup_factors']['separable_convolution-box_convolution'] = report_table['time']['separable_convolution']/report_table['time']['box_convolution']\n",
    "\n",
    "report_table['largest_difference']['convolution-separable_convolution'] = largest_difference(image_pc, image_sc)\n",
    "report_table['largest_difference']['convolution-box_convolution'] = largest_difference(image_pc, image_bc)"
   ]
  },
  {
   "cell_type": "code",
   "execution_count": null,
   "metadata": {},
   "outputs": [],
   "source": [
    "print(tabulate(report_table['time'], headers = 'keys'))\n",
    "print(tabulate(report_table['speedup_factors'], headers = 'keys'))\n",
    "print(tabulate(report_table['largest_difference'], headers = 'keys'))"
   ]
  },
  {
   "cell_type": "markdown",
   "metadata": {
    "tags": [
     "AST"
    ]
   },
   "source": [
    "### Problem 2.4"
   ]
  }
 ],
 "metadata": {
  "kernelspec": {
   "display_name": "Python 3",
   "language": "python",
   "name": "python3"
  },
  "language_info": {
   "codemirror_mode": {
    "name": "ipython",
    "version": 3
   },
   "file_extension": ".py",
   "mimetype": "text/x-python",
   "name": "python",
   "nbconvert_exporter": "python",
   "pygments_lexer": "ipython3",
   "version": "3.8.5-final"
  },
  "pycharm": {
   "stem_cell": {
    "cell_type": "raw",
    "metadata": {
     "collapsed": false
    },
    "source": []
   }
  }
 },
 "nbformat": 4,
 "nbformat_minor": 2
}