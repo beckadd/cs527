{
  "nbformat": 4,
  "nbformat_minor": 0,
  "metadata": {
    "colab": {
      "name": "Homework5_Problem1.ipynb",
      "provenance": []
    },
    "kernelspec": {
      "name": "python3",
      "display_name": "Python 3"
    }
  },
  "cells": [
    {
      "cell_type": "markdown",
      "metadata": {
        "id": "eT4UzwYQASE1"
      },
      "source": [
        "##Problem 1.1"
      ]
    },
    {
      "cell_type": "markdown",
      "metadata": {
        "id": "VyGpWgSPA0F0"
      },
      "source": [
        "1. $A$ = $\\begin{bmatrix}2 & 1\\\\4 & 2\\end{bmatrix}$, $b$ = $\\begin{bmatrix}1\\\\3\\end{bmatrix}$\r\n",
        "\r\n",
        "Clearly, $b$ in not in the range of $A$.\r\n",
        "\r\n",
        "Therefore, this is an **Incompatible** system.<br>\r\n",
        "<br>\r\n",
        "2. $A$ = $\\begin{bmatrix}2 & 1\\\\4 & 2\\end{bmatrix}$, $b$ = $\\begin{bmatrix}1\\\\2\\end{bmatrix}$\r\n",
        "\r\n",
        "$b$ is in the range of $A$, so it is compatible. Rank($A$) = 1 and $n$ = 2\r\n",
        "\r\n",
        "Therefore, this is an **Underdetermined** system as it as infinitely many solutions.<br>\r\n",
        "<br>\r\n",
        "3. $A$ = $\\begin{bmatrix}2 & 1\\\\0 & 2\\end{bmatrix}$, $b$ = $\\begin{bmatrix}1\\\\2\\end{bmatrix}$\r\n",
        "\r\n",
        "$b$ is in the range of $A$, so it is compatible. Rank($A$) = 2 and $n$ = 2\r\n",
        "\r\n",
        "Therefore, this is an **Invertible** system as it is a square matrix with one solution.<br>\r\n",
        "<br>\r\n",
        "4. $A$ = $\\begin{bmatrix}2 & 1\\\\0 & 4\\\\6 & 3\\end{bmatrix}$, $b$ = $\\begin{bmatrix}1\\\\2\\\\1\\end{bmatrix}$\r\n",
        "\r\n",
        "Clearly, $b$ in not in the range of $A$.\r\n",
        "\r\n",
        "Therefore, this is an **Incompatible** system.<br>\r\n",
        "<br>\r\n",
        "5. $A$ = $\\begin{bmatrix}2 & 1\\\\0 & 4\\\\6 & 3\\end{bmatrix}$, $b$ = $\\begin{bmatrix}1\\\\2\\\\3\\end{bmatrix}$\r\n",
        "\r\n",
        "$b$ is in the range of $A$, so it is compatible. Rank($A$) = 2 and $n$ = 2\r\n",
        "\r\n",
        "Therefore, this is a **Redundant** system as it has more equations than the variables required to find the solution.<br>\r\n",
        "<br>\r\n",
        "6. $A$ = $\\begin{bmatrix}2 & 1\\\\4 & 2\\\\6 & 3\\end{bmatrix}$, $b$ = $\\begin{bmatrix}1\\\\3\\\\2\\end{bmatrix}$\r\n",
        "\r\n",
        "Clearly, $b$ in not in the range of $A$.\r\n",
        "\r\n",
        "Therefore, this is an **Incompatible** system.<br>\r\n"
      ]
    },
    {
      "cell_type": "markdown",
      "metadata": {
        "id": "wEvKqFKEG234"
      },
      "source": [
        "##Problem 1.2"
      ]
    },
    {
      "cell_type": "markdown",
      "metadata": {
        "id": "YfQtoUk3G6js"
      },
      "source": [
        "The given matrix is:\r\n",
        "$$A = \\begin{bmatrix}0 & 0\\\\0 & a^2\\end{bmatrix}$$\r\n",
        "<br>\r\n",
        "Let $P$ be the permutation matrix defined as follows:\r\n",
        "$$P = \\begin{bmatrix}0 & 1\\\\1 & 0\\end{bmatrix}$$\r\n",
        "<br>\r\n",
        "The results of pre-multiplying and post-multiplying $A$ with $P$ are shown below:\r\n",
        "\r\n",
        "$$PA = \\begin{bmatrix}0 & 1\\\\1 & 0\\end{bmatrix}\\begin{bmatrix}0 & 0\\\\0 & a^2\\end{bmatrix} = \\begin{bmatrix}0 & a^2\\\\0 & 0\\end{bmatrix}$$\r\n",
        "Here, the rows are interchanged.\r\n",
        "<br>\r\n",
        "$$AP = \\begin{bmatrix}0 & 0\\\\0 & a^2\\end{bmatrix}\\begin{bmatrix}0 & 1\\\\1 & 0\\end{bmatrix} = \\begin{bmatrix}0 & 0\\\\a^2 & 0\\end{bmatrix}$$\r\n",
        "Here, the columns are interchanged.\r\n",
        "<br>\r\n",
        "\r\n",
        "Assume a diagonal matrix $Σ$, where\r\n",
        "$$Σ = \\begin{bmatrix}a^2 & 0\\\\0 & 0\\end{bmatrix}$$<br>\r\n",
        "\r\n",
        "$$PΣP = \\begin{bmatrix}0 & 1\\\\1 & 0\\end{bmatrix}\\begin{bmatrix}a^2 & 0\\\\0 & 0\\end{bmatrix}\\begin{bmatrix}0 & 1\\\\1 & 0\\end{bmatrix} = \\begin{bmatrix}0 & 0\\\\a^2 & 0\\end{bmatrix}\\begin{bmatrix}0 & 1\\\\1 & 0\\end{bmatrix} = \\begin{bmatrix}0 & 0\\\\0 & a^2\\end{bmatrix} = A$$\r\n",
        "<br>\r\n",
        "Therefore,\r\n",
        "\r\n",
        "$$A = PΣP = UΣV^T$$\r\n",
        "\r\n",
        "where\r\n",
        "$$U = \\begin{bmatrix}0 & 1\\\\1 & 0\\end{bmatrix}$$<br>\r\n",
        "$$Σ = \\begin{bmatrix}a^2 & 0\\\\0 & 0\\end{bmatrix}$$<br>\r\n",
        "$$V = \\begin{bmatrix}0 & 1\\\\1 & 0\\end{bmatrix}$$<br>\r\n",
        "<br>\r\n",
        "\r\n",
        "The next matrix, $B$ is given as:\r\n",
        "$$B = \\begin{bmatrix}0 & -a^2\\\\2a^2 & 0\\\\0 &0\\end{bmatrix}$$\r\n",
        "\r\n",
        "Let a diagonal matrix $Σ$ be defined:\r\n",
        "$$Σ = \\begin{bmatrix}2a^2 & 0\\\\0 & -a^2\\\\0 &0\\end{bmatrix}$$<br>\r\n",
        "\r\n",
        "If permutation matrices\r\n",
        "$$P_1 = \\begin{bmatrix}0 & 1 & 0\\\\1 & 0 & 0\\\\0 & 0 & 1\\end{bmatrix}$$<br>\r\n",
        "$$P_2 = \\begin{bmatrix}1 & 0\\\\0 & 1\\end{bmatrix}$$<br>\r\n",
        "\r\n",
        "are multiplied with $Σ$ in the following manner, we get:\r\n",
        "\r\n",
        "$$P_1ΣP_2 = \\begin{bmatrix}0 & 1 & 0\\\\1 & 0 & 0\\\\0 & 0 & 1\\end{bmatrix}\\begin{bmatrix}2a^2 & 0\\\\0 & -a^2\\\\0 &0\\end{bmatrix}\\begin{bmatrix}1 & 0\\\\0 & 1\\end{bmatrix} = \\begin{bmatrix}0 & -a^2\\\\2a^2 & 0\\\\0 &0\\end{bmatrix} = B$$<br>\r\n",
        "\r\n",
        "Therefore,\r\n",
        "\r\n",
        "$$B = P_1ΣP_2 = UΣV^T$$\r\n",
        "\r\n",
        "where\r\n",
        "$$U = \\begin{bmatrix}0 & 1 & 0\\\\1 & 0 & 0\\\\0 & 0 & 1\\end{bmatrix}$$<br>\r\n",
        "$$Σ = \\begin{bmatrix}2a^2 & 0\\\\0 & -a^2\\\\0 &0\\end{bmatrix}$$<br>\r\n",
        "$$V = \\begin{bmatrix}1 & 0\\\\0 & 1\\end{bmatrix}$$<br>\r\n"
      ]
    },
    {
      "cell_type": "code",
      "metadata": {
        "id": "JOWPE4KHAzXd"
      },
      "source": [
        ""
      ],
      "execution_count": null,
      "outputs": []
    }
  ]
}